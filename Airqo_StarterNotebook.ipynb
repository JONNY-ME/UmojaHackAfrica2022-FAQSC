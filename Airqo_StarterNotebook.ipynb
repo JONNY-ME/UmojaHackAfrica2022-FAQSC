{
  "cells": [
    {
      "cell_type": "markdown",
      "metadata": {
        "id": "UTZATqKuzQud"
      },
      "source": [
        "<h2><center> Welcome to the Faulty Air-Quality Sensor Challenge</h2></center>\n",
        "<figure>\n",
        "<center><img src =\"https://drive.google.com/uc?export=view&id=1hSOAfRhJ_jo-MZAjq81VYJu5bZNL7EjD\" width = \"800\" height = '500'/>\n",
        "\n",
        "*About the problem*\n",
        "> AirQo’s air quality sensing network has more than 120 low-cost devices deployed across Uganda; in most cases, these devices are deployed in unmonitored or perilous environments. These low-cost electronic devices are susceptible to breakdown caused by communication malfunction, aging, wear and tear, manufacturing deficiencies, incorrect calibration, mishandling and other external environmental factors. Faults lead to data inaccuracies and data loss, which impacts decisions and policies that could significantly impact people’s lives. \n",
        "\n",
        "*Objective of this challenge*\n",
        "> In this challenge, your task is to develop a binary clasification model to identify faulty sensors, regardless of the device type. The model will be used by AirQo to automatically flag devices that have faulty readings. \n",
        "\n",
        "Device failure detection and monitoring is critical to AirQo’s work; faulty devices need to be identified, isolated and fixed or replaced with urgency\n",
        "\n"
      ]
    },
    {
      "cell_type": "markdown",
      "metadata": {
        "id": "TNwjd3IWlgxc"
      },
      "source": [
        "## Table of contents:\n",
        "\n",
        "1. [Importing libraries](#Libraries)\n",
        "2. [Loading data](#Data)\n",
        "3. [Statistical summaries](#Statistics)\n",
        "4. [Missing values and duplicates](#Missing)\n",
        "5. [Outliers](#Outliers)\n",
        "6. [Feature engineering](#Engineering)\n",
        "7. [Date features EDA](#Dates)\n",
        "8. [Correlations - EDA](#Correlations)\n",
        "9. [Preprocess test dataset](#Preprocess)\n",
        "10. [Modelling](#Modelling)\n",
        "11. [Making predictions of the test set and creating a submission file](#Predictions)\n",
        "12. [TO DOs](#Tips)"
      ]
    },
    {
      "cell_type": "markdown",
      "metadata": {
        "id": "I8Kdz7a25j4P"
      },
      "source": [
        "<a name=\"Libraries\"></a>\n",
        "## 1. Importing libraries\n"
      ]
    },
    {
      "cell_type": "code",
      "execution_count": 2,
      "metadata": {
        "id": "GJvGrR3AXhny"
      },
      "outputs": [],
      "source": [
        "# Import libraries\n",
        "import pandas as pd\n",
        "import numpy as np\n",
        "import matplotlib.pyplot as plt\n",
        "import seaborn as sns\n",
        "from sklearn.ensemble import RandomForestClassifier\n",
        "from sklearn.model_selection import train_test_split\n",
        "from sklearn.metrics import accuracy_score, confusion_matrix, classification_report, ConfusionMatrixDisplay\n",
        "pd.options.display.float_format = '{:.5f}'.format\n",
        "\n",
        "%matplotlib inline\n",
        "import warnings\n",
        "warnings.filterwarnings('ignore')"
      ]
    },
    {
      "cell_type": "markdown",
      "metadata": {
        "id": "ro-KRpqn5pbB"
      },
      "source": [
        "<a name=\"Data\"></a>\n",
        "## 2. Loading data"
      ]
    },
    {
      "cell_type": "code",
      "execution_count": 3,
      "metadata": {
        "colab": {
          "base_uri": "https://localhost:8080/",
          "height": 206
        },
        "id": "V54N2h-CXzmI",
        "outputId": "45980b4c-3fd5-428e-86ae-0ec1bf374d3e"
      },
      "outputs": [
        {
          "data": {
            "text/html": [
              "<div>\n",
              "<style scoped>\n",
              "    .dataframe tbody tr th:only-of-type {\n",
              "        vertical-align: middle;\n",
              "    }\n",
              "\n",
              "    .dataframe tbody tr th {\n",
              "        vertical-align: top;\n",
              "    }\n",
              "\n",
              "    .dataframe thead th {\n",
              "        text-align: right;\n",
              "    }\n",
              "</style>\n",
              "<table border=\"1\" class=\"dataframe\">\n",
              "  <thead>\n",
              "    <tr style=\"text-align: right;\">\n",
              "      <th></th>\n",
              "      <th>ID</th>\n",
              "      <th>Datetime</th>\n",
              "      <th>Sensor1_PM2.5</th>\n",
              "      <th>Sensor2_PM2.5</th>\n",
              "      <th>Temperature</th>\n",
              "      <th>Relative_Humidity</th>\n",
              "      <th>Offset_fault</th>\n",
              "    </tr>\n",
              "  </thead>\n",
              "  <tbody>\n",
              "    <tr>\n",
              "      <th>0</th>\n",
              "      <td>ID_QF0ZTQJ2SF5Q</td>\n",
              "      <td>2021-11-03 04:06:31</td>\n",
              "      <td>52.58000</td>\n",
              "      <td>49.52000</td>\n",
              "      <td>17.40000</td>\n",
              "      <td>96.00000</td>\n",
              "      <td>0</td>\n",
              "    </tr>\n",
              "    <tr>\n",
              "      <th>1</th>\n",
              "      <td>ID_4GTK689CNX5S</td>\n",
              "      <td>2021-11-08 18:43:23</td>\n",
              "      <td>35.25000</td>\n",
              "      <td>33.40000</td>\n",
              "      <td>25.00000</td>\n",
              "      <td>75.00000</td>\n",
              "      <td>0</td>\n",
              "    </tr>\n",
              "    <tr>\n",
              "      <th>2</th>\n",
              "      <td>ID_DL7VVKW9U7XQ</td>\n",
              "      <td>2021-11-07 09:50:33</td>\n",
              "      <td>19.18000</td>\n",
              "      <td>23.50000</td>\n",
              "      <td>24.90000</td>\n",
              "      <td>75.00000</td>\n",
              "      <td>0</td>\n",
              "    </tr>\n",
              "    <tr>\n",
              "      <th>3</th>\n",
              "      <td>ID_6XQOMBXM2DG3</td>\n",
              "      <td>2022-01-01 18:55:15</td>\n",
              "      <td>19.40000</td>\n",
              "      <td>15.48000</td>\n",
              "      <td>24.90000</td>\n",
              "      <td>70.00000</td>\n",
              "      <td>0</td>\n",
              "    </tr>\n",
              "    <tr>\n",
              "      <th>4</th>\n",
              "      <td>ID_UQZW9ISJY9QE</td>\n",
              "      <td>2021-11-05 22:23:48</td>\n",
              "      <td>38.30000</td>\n",
              "      <td>34.77000</td>\n",
              "      <td>20.90000</td>\n",
              "      <td>89.00000</td>\n",
              "      <td>0</td>\n",
              "    </tr>\n",
              "  </tbody>\n",
              "</table>\n",
              "</div>"
            ],
            "text/plain": [
              "                ID            Datetime  Sensor1_PM2.5  Sensor2_PM2.5  \\\n",
              "0  ID_QF0ZTQJ2SF5Q 2021-11-03 04:06:31       52.58000       49.52000   \n",
              "1  ID_4GTK689CNX5S 2021-11-08 18:43:23       35.25000       33.40000   \n",
              "2  ID_DL7VVKW9U7XQ 2021-11-07 09:50:33       19.18000       23.50000   \n",
              "3  ID_6XQOMBXM2DG3 2022-01-01 18:55:15       19.40000       15.48000   \n",
              "4  ID_UQZW9ISJY9QE 2021-11-05 22:23:48       38.30000       34.77000   \n",
              "\n",
              "   Temperature  Relative_Humidity  Offset_fault  \n",
              "0     17.40000           96.00000             0  \n",
              "1     25.00000           75.00000             0  \n",
              "2     24.90000           75.00000             0  \n",
              "3     24.90000           70.00000             0  \n",
              "4     20.90000           89.00000             0  "
            ]
          },
          "execution_count": 3,
          "metadata": {},
          "output_type": "execute_result"
        }
      ],
      "source": [
        "# Load files\n",
        "train = pd.read_csv('train.csv', parse_dates = ['Datetime'])\n",
        "test = pd.read_csv('test.csv', parse_dates = ['Datetime'])\n",
        "samplesubmission = pd.read_csv('SampleSubmission.csv')\n",
        "\n",
        "# Preview train dataset\n",
        "train.head()"
      ]
    },
    {
      "cell_type": "code",
      "execution_count": 3,
      "metadata": {
        "colab": {
          "base_uri": "https://localhost:8080/",
          "height": 206
        },
        "id": "SPMVj-JXXzh-",
        "outputId": "0b5fe486-ed69-4c31-b51d-97cfcf065d9d"
      },
      "outputs": [
        {
          "data": {
            "text/html": [
              "<div>\n",
              "<style scoped>\n",
              "    .dataframe tbody tr th:only-of-type {\n",
              "        vertical-align: middle;\n",
              "    }\n",
              "\n",
              "    .dataframe tbody tr th {\n",
              "        vertical-align: top;\n",
              "    }\n",
              "\n",
              "    .dataframe thead th {\n",
              "        text-align: right;\n",
              "    }\n",
              "</style>\n",
              "<table border=\"1\" class=\"dataframe\">\n",
              "  <thead>\n",
              "    <tr style=\"text-align: right;\">\n",
              "      <th></th>\n",
              "      <th>ID</th>\n",
              "      <th>Datetime</th>\n",
              "      <th>Sensor1_PM2.5</th>\n",
              "      <th>Sensor2_PM2.5</th>\n",
              "      <th>Temperature</th>\n",
              "      <th>Relative_Humidity</th>\n",
              "    </tr>\n",
              "  </thead>\n",
              "  <tbody>\n",
              "    <tr>\n",
              "      <th>0</th>\n",
              "      <td>ID_STL3V9B2OU12</td>\n",
              "      <td>2022-01-28 08:49:41</td>\n",
              "      <td>90.75000</td>\n",
              "      <td>114.78000</td>\n",
              "      <td>22.20000</td>\n",
              "      <td>56.00000</td>\n",
              "    </tr>\n",
              "    <tr>\n",
              "      <th>1</th>\n",
              "      <td>ID_U2EKAY4SGA94</td>\n",
              "      <td>2022-02-16 21:30:17</td>\n",
              "      <td>56.03000</td>\n",
              "      <td>52.18000</td>\n",
              "      <td>NaN</td>\n",
              "      <td>NaN</td>\n",
              "    </tr>\n",
              "    <tr>\n",
              "      <th>2</th>\n",
              "      <td>ID_UJFLEWQR0U4N</td>\n",
              "      <td>2022-01-24 17:57:18</td>\n",
              "      <td>387.35000</td>\n",
              "      <td>346.73000</td>\n",
              "      <td>28.10000</td>\n",
              "      <td>63.00000</td>\n",
              "    </tr>\n",
              "    <tr>\n",
              "      <th>3</th>\n",
              "      <td>ID_S2C2GPGA4R5I</td>\n",
              "      <td>2022-01-31 07:07:09</td>\n",
              "      <td>63.17000</td>\n",
              "      <td>83.85000</td>\n",
              "      <td>21.60000</td>\n",
              "      <td>82.00000</td>\n",
              "    </tr>\n",
              "    <tr>\n",
              "      <th>4</th>\n",
              "      <td>ID_5V2C2ZL221H8</td>\n",
              "      <td>2022-01-31 00:37:05</td>\n",
              "      <td>69.23000</td>\n",
              "      <td>53.07000</td>\n",
              "      <td>22.70000</td>\n",
              "      <td>80.00000</td>\n",
              "    </tr>\n",
              "  </tbody>\n",
              "</table>\n",
              "</div>"
            ],
            "text/plain": [
              "                ID            Datetime  Sensor1_PM2.5  Sensor2_PM2.5  \\\n",
              "0  ID_STL3V9B2OU12 2022-01-28 08:49:41       90.75000      114.78000   \n",
              "1  ID_U2EKAY4SGA94 2022-02-16 21:30:17       56.03000       52.18000   \n",
              "2  ID_UJFLEWQR0U4N 2022-01-24 17:57:18      387.35000      346.73000   \n",
              "3  ID_S2C2GPGA4R5I 2022-01-31 07:07:09       63.17000       83.85000   \n",
              "4  ID_5V2C2ZL221H8 2022-01-31 00:37:05       69.23000       53.07000   \n",
              "\n",
              "   Temperature  Relative_Humidity  \n",
              "0     22.20000           56.00000  \n",
              "1          NaN                NaN  \n",
              "2     28.10000           63.00000  \n",
              "3     21.60000           82.00000  \n",
              "4     22.70000           80.00000  "
            ]
          },
          "execution_count": 3,
          "metadata": {},
          "output_type": "execute_result"
        }
      ],
      "source": [
        "# Preview test dataset\n",
        "test.head()"
      ]
    },
    {
      "cell_type": "code",
      "execution_count": 4,
      "metadata": {
        "colab": {
          "base_uri": "https://localhost:8080/",
          "height": 206
        },
        "id": "V08kByzvZcmU",
        "outputId": "99259372-8541-4a0d-8fff-8e8d2734bd87"
      },
      "outputs": [
        {
          "data": {
            "text/html": [
              "<div>\n",
              "<style scoped>\n",
              "    .dataframe tbody tr th:only-of-type {\n",
              "        vertical-align: middle;\n",
              "    }\n",
              "\n",
              "    .dataframe tbody tr th {\n",
              "        vertical-align: top;\n",
              "    }\n",
              "\n",
              "    .dataframe thead th {\n",
              "        text-align: right;\n",
              "    }\n",
              "</style>\n",
              "<table border=\"1\" class=\"dataframe\">\n",
              "  <thead>\n",
              "    <tr style=\"text-align: right;\">\n",
              "      <th></th>\n",
              "      <th>ID</th>\n",
              "      <th>Offset_fault</th>\n",
              "    </tr>\n",
              "  </thead>\n",
              "  <tbody>\n",
              "    <tr>\n",
              "      <th>0</th>\n",
              "      <td>ID_STL3V9B2OU12</td>\n",
              "      <td>0</td>\n",
              "    </tr>\n",
              "    <tr>\n",
              "      <th>1</th>\n",
              "      <td>ID_U2EKAY4SGA94</td>\n",
              "      <td>0</td>\n",
              "    </tr>\n",
              "    <tr>\n",
              "      <th>2</th>\n",
              "      <td>ID_UJFLEWQR0U4N</td>\n",
              "      <td>0</td>\n",
              "    </tr>\n",
              "    <tr>\n",
              "      <th>3</th>\n",
              "      <td>ID_S2C2GPGA4R5I</td>\n",
              "      <td>0</td>\n",
              "    </tr>\n",
              "    <tr>\n",
              "      <th>4</th>\n",
              "      <td>ID_5V2C2ZL221H8</td>\n",
              "      <td>0</td>\n",
              "    </tr>\n",
              "  </tbody>\n",
              "</table>\n",
              "</div>"
            ],
            "text/plain": [
              "                ID  Offset_fault\n",
              "0  ID_STL3V9B2OU12             0\n",
              "1  ID_U2EKAY4SGA94             0\n",
              "2  ID_UJFLEWQR0U4N             0\n",
              "3  ID_S2C2GPGA4R5I             0\n",
              "4  ID_5V2C2ZL221H8             0"
            ]
          },
          "execution_count": 4,
          "metadata": {},
          "output_type": "execute_result"
        }
      ],
      "source": [
        "# Preview sample submission file\n",
        "samplesubmission.head()"
      ]
    },
    {
      "cell_type": "code",
      "execution_count": 5,
      "metadata": {
        "colab": {
          "base_uri": "https://localhost:8080/"
        },
        "id": "kdoDJBvdXzf4",
        "outputId": "8ae0a74a-83a3-4f71-887a-daddd35acab4"
      },
      "outputs": [
        {
          "data": {
            "text/plain": [
              "((297177, 7), (127361, 6), (127361, 2))"
            ]
          },
          "execution_count": 5,
          "metadata": {},
          "output_type": "execute_result"
        }
      ],
      "source": [
        "# Check size and shape of datasets\n",
        "train.shape, test.shape, samplesubmission.shape"
      ]
    },
    {
      "cell_type": "markdown",
      "metadata": {
        "id": "KNtwMcKjZk9x"
      },
      "source": [
        "<a name=\"Statistics\"></a>\n",
        "## 3. Statistical summaries"
      ]
    },
    {
      "cell_type": "code",
      "execution_count": 6,
      "metadata": {
        "colab": {
          "base_uri": "https://localhost:8080/",
          "height": 457
        },
        "id": "S4NqRM3yXzeE",
        "outputId": "63584f13-2038-4608-f8b8-22171de5d8cb"
      },
      "outputs": [
        {
          "data": {
            "text/html": [
              "<div>\n",
              "<style scoped>\n",
              "    .dataframe tbody tr th:only-of-type {\n",
              "        vertical-align: middle;\n",
              "    }\n",
              "\n",
              "    .dataframe tbody tr th {\n",
              "        vertical-align: top;\n",
              "    }\n",
              "\n",
              "    .dataframe thead th {\n",
              "        text-align: right;\n",
              "    }\n",
              "</style>\n",
              "<table border=\"1\" class=\"dataframe\">\n",
              "  <thead>\n",
              "    <tr style=\"text-align: right;\">\n",
              "      <th></th>\n",
              "      <th>ID</th>\n",
              "      <th>Datetime</th>\n",
              "      <th>Sensor1_PM2.5</th>\n",
              "      <th>Sensor2_PM2.5</th>\n",
              "      <th>Temperature</th>\n",
              "      <th>Relative_Humidity</th>\n",
              "      <th>Offset_fault</th>\n",
              "    </tr>\n",
              "  </thead>\n",
              "  <tbody>\n",
              "    <tr>\n",
              "      <th>count</th>\n",
              "      <td>297177</td>\n",
              "      <td>297177</td>\n",
              "      <td>293563.00000</td>\n",
              "      <td>293563.00000</td>\n",
              "      <td>293628.00000</td>\n",
              "      <td>293628.00000</td>\n",
              "      <td>297177.00000</td>\n",
              "    </tr>\n",
              "    <tr>\n",
              "      <th>unique</th>\n",
              "      <td>297177</td>\n",
              "      <td>293751</td>\n",
              "      <td>NaN</td>\n",
              "      <td>NaN</td>\n",
              "      <td>NaN</td>\n",
              "      <td>NaN</td>\n",
              "      <td>NaN</td>\n",
              "    </tr>\n",
              "    <tr>\n",
              "      <th>top</th>\n",
              "      <td>ID_QF0ZTQJ2SF5Q</td>\n",
              "      <td>2021-11-26 17:23:00</td>\n",
              "      <td>NaN</td>\n",
              "      <td>NaN</td>\n",
              "      <td>NaN</td>\n",
              "      <td>NaN</td>\n",
              "      <td>NaN</td>\n",
              "    </tr>\n",
              "    <tr>\n",
              "      <th>freq</th>\n",
              "      <td>1</td>\n",
              "      <td>3</td>\n",
              "      <td>NaN</td>\n",
              "      <td>NaN</td>\n",
              "      <td>NaN</td>\n",
              "      <td>NaN</td>\n",
              "      <td>NaN</td>\n",
              "    </tr>\n",
              "    <tr>\n",
              "      <th>first</th>\n",
              "      <td>NaN</td>\n",
              "      <td>2021-10-15 16:00:31</td>\n",
              "      <td>NaN</td>\n",
              "      <td>NaN</td>\n",
              "      <td>NaN</td>\n",
              "      <td>NaN</td>\n",
              "      <td>NaN</td>\n",
              "    </tr>\n",
              "    <tr>\n",
              "      <th>last</th>\n",
              "      <td>NaN</td>\n",
              "      <td>2022-01-21 07:34:57</td>\n",
              "      <td>NaN</td>\n",
              "      <td>NaN</td>\n",
              "      <td>NaN</td>\n",
              "      <td>NaN</td>\n",
              "      <td>NaN</td>\n",
              "    </tr>\n",
              "    <tr>\n",
              "      <th>mean</th>\n",
              "      <td>NaN</td>\n",
              "      <td>NaN</td>\n",
              "      <td>40.75120</td>\n",
              "      <td>38.18302</td>\n",
              "      <td>23.31655</td>\n",
              "      <td>78.65362</td>\n",
              "      <td>0.37107</td>\n",
              "    </tr>\n",
              "    <tr>\n",
              "      <th>std</th>\n",
              "      <td>NaN</td>\n",
              "      <td>NaN</td>\n",
              "      <td>28.52618</td>\n",
              "      <td>28.64776</td>\n",
              "      <td>3.83697</td>\n",
              "      <td>14.77272</td>\n",
              "      <td>0.48309</td>\n",
              "    </tr>\n",
              "    <tr>\n",
              "      <th>min</th>\n",
              "      <td>NaN</td>\n",
              "      <td>NaN</td>\n",
              "      <td>-9.45000</td>\n",
              "      <td>-9.70000</td>\n",
              "      <td>16.70000</td>\n",
              "      <td>27.00000</td>\n",
              "      <td>0.00000</td>\n",
              "    </tr>\n",
              "    <tr>\n",
              "      <th>25%</th>\n",
              "      <td>NaN</td>\n",
              "      <td>NaN</td>\n",
              "      <td>22.43000</td>\n",
              "      <td>19.52000</td>\n",
              "      <td>20.40000</td>\n",
              "      <td>68.00000</td>\n",
              "      <td>0.00000</td>\n",
              "    </tr>\n",
              "    <tr>\n",
              "      <th>50%</th>\n",
              "      <td>NaN</td>\n",
              "      <td>NaN</td>\n",
              "      <td>36.47000</td>\n",
              "      <td>33.72000</td>\n",
              "      <td>21.90000</td>\n",
              "      <td>84.00000</td>\n",
              "      <td>0.00000</td>\n",
              "    </tr>\n",
              "    <tr>\n",
              "      <th>75%</th>\n",
              "      <td>NaN</td>\n",
              "      <td>NaN</td>\n",
              "      <td>49.42000</td>\n",
              "      <td>47.57000</td>\n",
              "      <td>26.30000</td>\n",
              "      <td>91.00000</td>\n",
              "      <td>1.00000</td>\n",
              "    </tr>\n",
              "    <tr>\n",
              "      <th>max</th>\n",
              "      <td>NaN</td>\n",
              "      <td>NaN</td>\n",
              "      <td>997.96000</td>\n",
              "      <td>997.26000</td>\n",
              "      <td>34.90000</td>\n",
              "      <td>99.00000</td>\n",
              "      <td>1.00000</td>\n",
              "    </tr>\n",
              "  </tbody>\n",
              "</table>\n",
              "</div>"
            ],
            "text/plain": [
              "                     ID             Datetime  Sensor1_PM2.5  Sensor2_PM2.5  \\\n",
              "count            297177               297177   293563.00000   293563.00000   \n",
              "unique           297177               293751            NaN            NaN   \n",
              "top     ID_QF0ZTQJ2SF5Q  2021-11-26 17:23:00            NaN            NaN   \n",
              "freq                  1                    3            NaN            NaN   \n",
              "first               NaN  2021-10-15 16:00:31            NaN            NaN   \n",
              "last                NaN  2022-01-21 07:34:57            NaN            NaN   \n",
              "mean                NaN                  NaN       40.75120       38.18302   \n",
              "std                 NaN                  NaN       28.52618       28.64776   \n",
              "min                 NaN                  NaN       -9.45000       -9.70000   \n",
              "25%                 NaN                  NaN       22.43000       19.52000   \n",
              "50%                 NaN                  NaN       36.47000       33.72000   \n",
              "75%                 NaN                  NaN       49.42000       47.57000   \n",
              "max                 NaN                  NaN      997.96000      997.26000   \n",
              "\n",
              "        Temperature  Relative_Humidity  Offset_fault  \n",
              "count  293628.00000       293628.00000  297177.00000  \n",
              "unique          NaN                NaN           NaN  \n",
              "top             NaN                NaN           NaN  \n",
              "freq            NaN                NaN           NaN  \n",
              "first           NaN                NaN           NaN  \n",
              "last            NaN                NaN           NaN  \n",
              "mean       23.31655           78.65362       0.37107  \n",
              "std         3.83697           14.77272       0.48309  \n",
              "min        16.70000           27.00000       0.00000  \n",
              "25%        20.40000           68.00000       0.00000  \n",
              "50%        21.90000           84.00000       0.00000  \n",
              "75%        26.30000           91.00000       1.00000  \n",
              "max        34.90000           99.00000       1.00000  "
            ]
          },
          "execution_count": 6,
          "metadata": {},
          "output_type": "execute_result"
        }
      ],
      "source": [
        "# Train statistical summary\n",
        "train.describe(include = 'all')"
      ]
    },
    {
      "cell_type": "markdown",
      "metadata": {
        "id": "2kESZ-qvnSEa"
      },
      "source": [
        "From the above statistical summary, we can deduce some of the following insights:\n",
        " - The train data provided ranges from *2021-10-15 16:00:34* to *2022-01-21 07:34:57*\n",
        " - There is a high correlation between Sensor1_PM2.5\tand Sensor2_PM2.5\n",
        " - Minimum recorded temperature is *16.70000* and a maximum *34.90000*"
      ]
    },
    {
      "cell_type": "code",
      "execution_count": 7,
      "metadata": {
        "colab": {
          "base_uri": "https://localhost:8080/",
          "height": 351
        },
        "id": "2iTls3u3S6Yo",
        "outputId": "3529639e-c36a-4a4b-8094-c07d069e7751"
      },
      "outputs": [
        {
          "data": {
            "image/png": "[encoded data removed]",
            "text/plain": [
              "<Figure size 576x360 with 1 Axes>"
            ]
          },
          "metadata": {},
          "output_type": "display_data"
        }
      ],
      "source": [
        "# Target variable distribution\n",
        "sns.set_style('darkgrid')\n",
        "plt.figure(figsize=(8, 5))\n",
        "sns.countplot(train[\"Offset_fault\"])\n",
        "plt.title('Target variable distribution')\n",
        "plt.show()"
      ]
    },
    {
      "cell_type": "markdown",
      "metadata": {
        "id": "x4gly1_uSAeY"
      },
      "source": [
        "The target variable is not well balanced.\n",
        "Some of the techniques to handle imbalanceness include:\n",
        "- Smote\n",
        "- Oversampling\n",
        "- Undersampling ..."
      ]
    },
    {
      "cell_type": "markdown",
      "metadata": {
        "id": "bJNhVNKn5uEE"
      },
      "source": [
        "<a name=\"Missing\"></a>\n",
        "## 4. Missing values and duplicates"
      ]
    },
    {
      "cell_type": "code",
      "execution_count": 8,
      "metadata": {
        "colab": {
          "base_uri": "https://localhost:8080/"
        },
        "id": "4Ftu9Y3tbXzk",
        "outputId": "cf356d92-38d4-44fb-839d-e686a4d32f6b"
      },
      "outputs": [
        {
          "data": {
            "text/plain": [
              "(True, True)"
            ]
          },
          "execution_count": 8,
          "metadata": {},
          "output_type": "execute_result"
        }
      ],
      "source": [
        "# Check for missing values\n",
        "train.isnull().sum().any(), test.isnull().sum().any() "
      ]
    },
    {
      "cell_type": "code",
      "execution_count": 12,
      "metadata": {
        "colab": {
          "base_uri": "https://localhost:8080/",
          "height": 609
        },
        "id": "K3eu41vhbXw9",
        "outputId": "e81f2af4-6102-47dc-917a-7d9678af4089"
      },
      "outputs": [
        {
          "data": {
            "image/png": "[encoded data removed]",
            "text/plain": [
              "<Figure size 648x720 with 1 Axes>"
            ]
          },
          "metadata": {},
          "output_type": "display_data"
        }
      ],
      "source": [
        "# Plot missing values in train set\n",
        "ax = train.isna().sum().sort_values().plot(kind = 'barh', figsize = (9, 10))\n",
        "plt.title('Percentage of Missing Values Per Column in Train Set', fontdict={'size':15})\n",
        "for p in ax.patches:\n",
        "    percentage ='{:,.0f}%'.format((p.get_width()/train.shape[0])*100)\n",
        "    width, height =p.get_width(),p.get_height()\n",
        "    x=p.get_x()+width+0.02\n",
        "    y=p.get_y()+height/2\n",
        "    ax.annotate(percentage,(x,y))"
      ]
    },
    {
      "cell_type": "markdown",
      "metadata": {
        "id": "e06doaah27vk"
      },
      "source": [
        "Suggestions on how to handle missing values:\n",
        " - Fill in missing values with mode, mean, median..\n",
        " - Drop Missing datapoints with missing values\n",
        " - Fill in with a large number e.g -999999"
      ]
    },
    {
      "cell_type": "code",
      "execution_count": null,
      "metadata": {},
      "outputs": [],
      "source": []
    },
    {
      "cell_type": "code",
      "execution_count": null,
      "metadata": {},
      "outputs": [],
      "source": []
    },
    {
      "cell_type": "code",
      "execution_count": 10,
      "metadata": {
        "id": "B5XFZniUMZ3O"
      },
      "outputs": [],
      "source": [
        "# Fill missing values with zeros\n",
        "# train = train.fillna(0)"
      ]
    },
    {
      "cell_type": "code",
      "execution_count": 13,
      "metadata": {
        "colab": {
          "base_uri": "https://localhost:8080/"
        },
        "id": "mALOf0CfbXs0",
        "outputId": "aeadce42-274a-49df-d00a-8c1dd3283b35"
      },
      "outputs": [
        {
          "data": {
            "text/plain": [
              "(False, False)"
            ]
          },
          "execution_count": 13,
          "metadata": {},
          "output_type": "execute_result"
        }
      ],
      "source": [
        "# Check for duplicates\n",
        "train.duplicated().any(), test.duplicated().any()"
      ]
    },
    {
      "cell_type": "markdown",
      "metadata": {
        "id": "rty_X2Ov4fOy"
      },
      "source": [
        "No duplictes "
      ]
    },
    {
      "cell_type": "markdown",
      "metadata": {
        "id": "6VmqiddbckaX"
      },
      "source": [
        "<a name=\"Outliers\"></a>\n",
        "## 5. Outliers"
      ]
    },
    {
      "cell_type": "code",
      "execution_count": 4,
      "metadata": {
        "colab": {
          "base_uri": "https://localhost:8080/",
          "height": 642
        },
        "id": "-v4vaXv3bXqh",
        "outputId": "6d747257-c8b9-40a3-e96e-ce90b9d4de01"
      },
      "outputs": [
        {
          "data": {
            "image/png": "[encoded data removed]",
            "text/plain": [
              "<Figure size 1080x720 with 4 Axes>"
            ]
          },
          "metadata": {},
          "output_type": "display_data"
        }
      ],
      "source": [
        "# Plotting boxplots for each of the numerical columns\n",
        "sns.set_style('darkgrid')\n",
        "fig, axes = plt.subplots(nrows = 2, ncols = 2, figsize = (15, 10))\n",
        "fig.suptitle('Box plots showing outliers', y= 0.93, fontsize = 15)\n",
        "\n",
        "for ax, data, name in zip(axes.flatten(), train, ['Sensor1_PM2.5',\t'Sensor2_PM2.5',\t'Temperature',\t'Relative_Humidity']):\n",
        "  sns.boxplot(train[name], ax = ax)"
      ]
    },
    {
      "cell_type": "markdown",
      "metadata": {
        "id": "ERPdXhEx2pjD"
      },
      "source": [
        "Outliers are those data points which differs significantly from other observations present in given dataset.\n",
        "\n",
        "Suggestions on how to handle outliers:\n",
        " - Transforming the outliers by scaling - log transformation, box-cox transformation ...\n",
        " - Dropping outliers\n",
        " - Imputation by replacing outliers with mean, median ...\n"
      ]
    },
    {
      "cell_type": "markdown",
      "metadata": {
        "id": "ndwt2QXVpyXF"
      },
      "source": [
        "<a name=\"Engineering\"></a>\n",
        "## 6. Feature engineering"
      ]
    },
    {
      "cell_type": "code",
      "execution_count": 5,
      "metadata": {
        "colab": {
          "base_uri": "https://localhost:8080/",
          "height": 206
        },
        "id": "Pdt5924PbXoY",
        "outputId": "8807d5a7-bfe2-4b38-ee0a-54e9a017d339"
      },
      "outputs": [
        {
          "data": {
            "text/html": [
              "<div>\n",
              "<style scoped>\n",
              "    .dataframe tbody tr th:only-of-type {\n",
              "        vertical-align: middle;\n",
              "    }\n",
              "\n",
              "    .dataframe tbody tr th {\n",
              "        vertical-align: top;\n",
              "    }\n",
              "\n",
              "    .dataframe thead th {\n",
              "        text-align: right;\n",
              "    }\n",
              "</style>\n",
              "<table border=\"1\" class=\"dataframe\">\n",
              "  <thead>\n",
              "    <tr style=\"text-align: right;\">\n",
              "      <th></th>\n",
              "      <th>Datetime</th>\n",
              "      <th>Datetime_day</th>\n",
              "      <th>Datetime_month</th>\n",
              "      <th>Datetime_year</th>\n",
              "      <th>Datetime_hour</th>\n",
              "    </tr>\n",
              "  </thead>\n",
              "  <tbody>\n",
              "    <tr>\n",
              "      <th>0</th>\n",
              "      <td>2021-11-03 04:06:31</td>\n",
              "      <td>3</td>\n",
              "      <td>11</td>\n",
              "      <td>2021</td>\n",
              "      <td>4</td>\n",
              "    </tr>\n",
              "    <tr>\n",
              "      <th>1</th>\n",
              "      <td>2021-11-08 18:43:23</td>\n",
              "      <td>8</td>\n",
              "      <td>11</td>\n",
              "      <td>2021</td>\n",
              "      <td>18</td>\n",
              "    </tr>\n",
              "    <tr>\n",
              "      <th>2</th>\n",
              "      <td>2021-11-07 09:50:33</td>\n",
              "      <td>7</td>\n",
              "      <td>11</td>\n",
              "      <td>2021</td>\n",
              "      <td>9</td>\n",
              "    </tr>\n",
              "    <tr>\n",
              "      <th>3</th>\n",
              "      <td>2022-01-01 18:55:15</td>\n",
              "      <td>1</td>\n",
              "      <td>1</td>\n",
              "      <td>2022</td>\n",
              "      <td>18</td>\n",
              "    </tr>\n",
              "    <tr>\n",
              "      <th>4</th>\n",
              "      <td>2021-11-05 22:23:48</td>\n",
              "      <td>5</td>\n",
              "      <td>11</td>\n",
              "      <td>2021</td>\n",
              "      <td>22</td>\n",
              "    </tr>\n",
              "  </tbody>\n",
              "</table>\n",
              "</div>"
            ],
            "text/plain": [
              "             Datetime  Datetime_day  Datetime_month  Datetime_year  \\\n",
              "0 2021-11-03 04:06:31             3              11           2021   \n",
              "1 2021-11-08 18:43:23             8              11           2021   \n",
              "2 2021-11-07 09:50:33             7              11           2021   \n",
              "3 2022-01-01 18:55:15             1               1           2022   \n",
              "4 2021-11-05 22:23:48             5              11           2021   \n",
              "\n",
              "   Datetime_hour  \n",
              "0              4  \n",
              "1             18  \n",
              "2              9  \n",
              "3             18  \n",
              "4             22  "
            ]
          },
          "execution_count": 5,
          "metadata": {},
          "output_type": "execute_result"
        }
      ],
      "source": [
        "# Extract day, month year and hour from the Datetime column\n",
        "# day\n",
        "train['Datetime_day'] = train.Datetime.dt.day\n",
        "\n",
        "# month\n",
        "train['Datetime_month'] = train.Datetime.dt.month\n",
        " \n",
        "# year\n",
        "train['Datetime_year'] = train.Datetime.dt.year\n",
        "\n",
        "# hour\n",
        "train['Datetime_hour'] = train.Datetime.dt.hour\n",
        "\n",
        "# week\n",
        "train['Datetime_week'] = train.Datetime.dt.week\n",
        "\n",
        "# Preview engineered date features\n",
        "train[['Datetime', 'Datetime_day', 'Datetime_month', 'Datetime_year', 'Datetime_hour']].head()"
      ]
    },
    {
      "cell_type": "markdown",
      "metadata": {
        "id": "jY_lY3A2w5Qb"
      },
      "source": [
        "<a name=\"Dates\"></a>\n",
        "## 7. Date features EDA"
      ]
    },
    {
      "cell_type": "code",
      "execution_count": 16,
      "metadata": {
        "colab": {
          "base_uri": "https://localhost:8080/",
          "height": 459
        },
        "id": "6BM9cJepx03e",
        "outputId": "66a9ce61-b05b-4e9e-853a-1b25cb029502"
      },
      "outputs": [
        {
          "data": {
            "image/png": "[encoded data removed]",
            "text/plain": [
              "<Figure size 1008x504 with 1 Axes>"
            ]
          },
          "metadata": {},
          "output_type": "display_data"
        }
      ],
      "source": [
        "# Datetime month countplot\n",
        "plt.figure(figsize = (14, 7))\n",
        "sns.countplot(x = 'Datetime_month', data = train)\n",
        "plt.title('Datetime month count plot')\n",
        "plt.show()"
      ]
    },
    {
      "cell_type": "markdown",
      "metadata": {
        "id": "cGIt4f-esd9J"
      },
      "source": [
        "- The only months available in the train set include *Jan, Oct, Nov and Dec*\n",
        "- March has the least number of observations in the dataset while December has the highest number of observations"
      ]
    },
    {
      "cell_type": "code",
      "execution_count": 17,
      "metadata": {
        "colab": {
          "base_uri": "https://localhost:8080/",
          "height": 479
        },
        "id": "jLifvK1kx8GX",
        "outputId": "ac7c44cf-fc7f-45fb-ca65-c60ceaace159"
      },
      "outputs": [
        {
          "data": {
            "image/png": "[encoded data removed]",
            "text/plain": [
              "<Figure size 1224x504 with 2 Axes>"
            ]
          },
          "metadata": {},
          "output_type": "display_data"
        }
      ],
      "source": [
        "# Box plots for Sensor1_PM2.5\tand Sensor2_PM2.5 vs Offset faults\n",
        "sns.set_style('darkgrid')\n",
        "fig, axes = plt.subplots(nrows = 1, ncols = 2, figsize = (17, 7))\n",
        "fig.suptitle('Box plot for Sensor1_PM2.5\tand Sensor2_PM2.5 vs Offset faults', y= 0.95, fontsize = 15)\n",
        "\n",
        "for ax, data, name in zip(axes.flatten(), train, ['Sensor1_PM2.5', 'Sensor2_PM2.5']):\n",
        "  sns.boxplot(train.Offset_fault, train[name], ax= ax)"
      ]
    },
    {
      "cell_type": "markdown",
      "metadata": {
        "id": "EdwTKG14O1zo"
      },
      "source": [
        " - Sensor 1 and sensor 2 are highly correlated with majority of the non faulty observations having the highest number of outliers"
      ]
    },
    {
      "cell_type": "markdown",
      "metadata": {
        "id": "F9O2HykxLwcJ"
      },
      "source": [
        "<a name=\"Correlations\"></a>\n",
        "## 8. Correlations - EDA"
      ]
    },
    {
      "cell_type": "code",
      "execution_count": 18,
      "metadata": {
        "colab": {
          "base_uri": "https://localhost:8080/",
          "height": 744
        },
        "id": "XvMDQtKDEb0M",
        "outputId": "e9eb15bc-3310-4377-b868-35177af13c3c"
      },
      "outputs": [
        {
          "data": {
            "text/plain": [
              "<Figure size 1440x864 with 0 Axes>"
            ]
          },
          "metadata": {},
          "output_type": "display_data"
        },
        {
          "data": {
            "image/png": "[encoded data removed]",
            "text/plain": [
              "<Figure size 720x720 with 20 Axes>"
            ]
          },
          "metadata": {},
          "output_type": "display_data"
        }
      ],
      "source": [
        "# Type of correlations \n",
        "plt.figure(figsize = (20, 12))\n",
        "num_cols = ['Sensor1_PM2.5',\t'Sensor2_PM2.5',\t'Temperature',\t'Relative_Humidity']\n",
        "sns.pairplot(train[num_cols], kind=\"scatter\", plot_kws=dict(s=80, edgecolor=\"white\", linewidth=2.5))\n",
        "plt.show()"
      ]
    },
    {
      "cell_type": "markdown",
      "metadata": {
        "id": "VdwD4SJEPRBB"
      },
      "source": [
        " - There is a positive correlation between Sensor1_PM2.5\tSensor2_PM2.5\n",
        " - There is a negative correlation between temperature and humidity\n",
        " - There seems to be no correlation between sensor PM2.5 and temperature/humidity"
      ]
    },
    {
      "cell_type": "code",
      "execution_count": 19,
      "metadata": {
        "colab": {
          "base_uri": "https://localhost:8080/",
          "height": 581
        },
        "id": "hUKo9oVKCQMm",
        "outputId": "c8d1e26c-ec20-4efd-de4d-688ef580a246"
      },
      "outputs": [
        {
          "data": {
            "image/png": "[encoded data removed]",
            "text/plain": [
              "<Figure size 936x576 with 2 Axes>"
            ]
          },
          "metadata": {},
          "output_type": "display_data"
        }
      ],
      "source": [
        "# Quantify correlations\n",
        "corr = train.corr()\n",
        "plt.figure(figsize = (13, 8))\n",
        "sns.heatmap(corr, cmap='RdYlGn', annot = True, center = 0)\n",
        "plt.title('Correlogram', fontsize = 15, color = 'darkgreen')\n",
        "plt.show()"
      ]
    },
    {
      "cell_type": "markdown",
      "metadata": {
        "id": "dxifxALcP_p1"
      },
      "source": [
        "- There is a 0.96 positive correlation between sensor1 PM2.5 and sensor2 PM2.5\n",
        "- There is a -0.99 negative correlation between temperature and humidity"
      ]
    },
    {
      "cell_type": "markdown",
      "metadata": {
        "id": "0b2HJYzArroH"
      },
      "source": [
        "<a name=\"Preprocess\"></a>\n",
        "## 9.  Preprocess test dataset"
      ]
    },
    {
      "cell_type": "code",
      "execution_count": 6,
      "metadata": {
        "colab": {
          "base_uri": "https://localhost:8080/",
          "height": 250
        },
        "id": "ELn_cwzCXzWw",
        "outputId": "cce79abd-9b58-4f1a-b636-277fb21fa095"
      },
      "outputs": [
        {
          "data": {
            "text/html": [
              "<div>\n",
              "<style scoped>\n",
              "    .dataframe tbody tr th:only-of-type {\n",
              "        vertical-align: middle;\n",
              "    }\n",
              "\n",
              "    .dataframe tbody tr th {\n",
              "        vertical-align: top;\n",
              "    }\n",
              "\n",
              "    .dataframe thead th {\n",
              "        text-align: right;\n",
              "    }\n",
              "</style>\n",
              "<table border=\"1\" class=\"dataframe\">\n",
              "  <thead>\n",
              "    <tr style=\"text-align: right;\">\n",
              "      <th></th>\n",
              "      <th>ID</th>\n",
              "      <th>Datetime</th>\n",
              "      <th>Sensor1_PM2.5</th>\n",
              "      <th>Sensor2_PM2.5</th>\n",
              "      <th>Temperature</th>\n",
              "      <th>Relative_Humidity</th>\n",
              "      <th>Datetime_day</th>\n",
              "      <th>Datetime_month</th>\n",
              "      <th>Datetime_year</th>\n",
              "      <th>Datetime_hour</th>\n",
              "      <th>Datetime_week</th>\n",
              "    </tr>\n",
              "  </thead>\n",
              "  <tbody>\n",
              "    <tr>\n",
              "      <th>0</th>\n",
              "      <td>ID_STL3V9B2OU12</td>\n",
              "      <td>2022-01-28 08:49:41</td>\n",
              "      <td>90.75000</td>\n",
              "      <td>114.78000</td>\n",
              "      <td>22.20000</td>\n",
              "      <td>56.00000</td>\n",
              "      <td>28</td>\n",
              "      <td>1</td>\n",
              "      <td>2022</td>\n",
              "      <td>8</td>\n",
              "      <td>4</td>\n",
              "    </tr>\n",
              "    <tr>\n",
              "      <th>1</th>\n",
              "      <td>ID_U2EKAY4SGA94</td>\n",
              "      <td>2022-02-16 21:30:17</td>\n",
              "      <td>56.03000</td>\n",
              "      <td>52.18000</td>\n",
              "      <td>NaN</td>\n",
              "      <td>NaN</td>\n",
              "      <td>16</td>\n",
              "      <td>2</td>\n",
              "      <td>2022</td>\n",
              "      <td>21</td>\n",
              "      <td>7</td>\n",
              "    </tr>\n",
              "    <tr>\n",
              "      <th>2</th>\n",
              "      <td>ID_UJFLEWQR0U4N</td>\n",
              "      <td>2022-01-24 17:57:18</td>\n",
              "      <td>387.35000</td>\n",
              "      <td>346.73000</td>\n",
              "      <td>28.10000</td>\n",
              "      <td>63.00000</td>\n",
              "      <td>24</td>\n",
              "      <td>1</td>\n",
              "      <td>2022</td>\n",
              "      <td>17</td>\n",
              "      <td>4</td>\n",
              "    </tr>\n",
              "    <tr>\n",
              "      <th>3</th>\n",
              "      <td>ID_S2C2GPGA4R5I</td>\n",
              "      <td>2022-01-31 07:07:09</td>\n",
              "      <td>63.17000</td>\n",
              "      <td>83.85000</td>\n",
              "      <td>21.60000</td>\n",
              "      <td>82.00000</td>\n",
              "      <td>31</td>\n",
              "      <td>1</td>\n",
              "      <td>2022</td>\n",
              "      <td>7</td>\n",
              "      <td>5</td>\n",
              "    </tr>\n",
              "    <tr>\n",
              "      <th>4</th>\n",
              "      <td>ID_5V2C2ZL221H8</td>\n",
              "      <td>2022-01-31 00:37:05</td>\n",
              "      <td>69.23000</td>\n",
              "      <td>53.07000</td>\n",
              "      <td>22.70000</td>\n",
              "      <td>80.00000</td>\n",
              "      <td>31</td>\n",
              "      <td>1</td>\n",
              "      <td>2022</td>\n",
              "      <td>0</td>\n",
              "      <td>5</td>\n",
              "    </tr>\n",
              "  </tbody>\n",
              "</table>\n",
              "</div>"
            ],
            "text/plain": [
              "                ID            Datetime  Sensor1_PM2.5  Sensor2_PM2.5  \\\n",
              "0  ID_STL3V9B2OU12 2022-01-28 08:49:41       90.75000      114.78000   \n",
              "1  ID_U2EKAY4SGA94 2022-02-16 21:30:17       56.03000       52.18000   \n",
              "2  ID_UJFLEWQR0U4N 2022-01-24 17:57:18      387.35000      346.73000   \n",
              "3  ID_S2C2GPGA4R5I 2022-01-31 07:07:09       63.17000       83.85000   \n",
              "4  ID_5V2C2ZL221H8 2022-01-31 00:37:05       69.23000       53.07000   \n",
              "\n",
              "   Temperature  Relative_Humidity  Datetime_day  Datetime_month  \\\n",
              "0     22.20000           56.00000            28               1   \n",
              "1          NaN                NaN            16               2   \n",
              "2     28.10000           63.00000            24               1   \n",
              "3     21.60000           82.00000            31               1   \n",
              "4     22.70000           80.00000            31               1   \n",
              "\n",
              "   Datetime_year  Datetime_hour  Datetime_week  \n",
              "0           2022              8              4  \n",
              "1           2022             21              7  \n",
              "2           2022             17              4  \n",
              "3           2022              7              5  \n",
              "4           2022              0              5  "
            ]
          },
          "execution_count": 6,
          "metadata": {},
          "output_type": "execute_result"
        }
      ],
      "source": [
        "# Extract day, month and year from the Datetime column\n",
        "test['Datetime_day'] = test.Datetime.dt.day\n",
        "test['Datetime_month'] = test.Datetime.dt.month\n",
        "test['Datetime_year'] = test.Datetime.dt.year\n",
        "test['Datetime_hour'] = test.Datetime.dt.hour\n",
        "test['Datetime_week'] = test.Datetime.dt.week\n",
        "\n",
        "# Fill in missing values with Zeroes\n",
        "# test = test.fillna(0)\n",
        "\n",
        "# Preview engineered test set\n",
        "test.head()"
      ]
    },
    {
      "cell_type": "code",
      "execution_count": 10,
      "metadata": {},
      "outputs": [
        {
          "data": {
            "text/html": [
              "<div>\n",
              "<style scoped>\n",
              "    .dataframe tbody tr th:only-of-type {\n",
              "        vertical-align: middle;\n",
              "    }\n",
              "\n",
              "    .dataframe tbody tr th {\n",
              "        vertical-align: top;\n",
              "    }\n",
              "\n",
              "    .dataframe thead th {\n",
              "        text-align: right;\n",
              "    }\n",
              "</style>\n",
              "<table border=\"1\" class=\"dataframe\">\n",
              "  <thead>\n",
              "    <tr style=\"text-align: right;\">\n",
              "      <th></th>\n",
              "      <th>ID</th>\n",
              "      <th>Datetime</th>\n",
              "      <th>Sensor1_PM2.5</th>\n",
              "      <th>Sensor2_PM2.5</th>\n",
              "      <th>Temperature</th>\n",
              "      <th>Relative_Humidity</th>\n",
              "      <th>Offset_fault</th>\n",
              "      <th>Datetime_day</th>\n",
              "      <th>Datetime_month</th>\n",
              "      <th>Datetime_year</th>\n",
              "      <th>Datetime_hour</th>\n",
              "      <th>Datetime_week</th>\n",
              "      <th>is_train</th>\n",
              "    </tr>\n",
              "  </thead>\n",
              "  <tbody>\n",
              "    <tr>\n",
              "      <th>0</th>\n",
              "      <td>ID_QF0ZTQJ2SF5Q</td>\n",
              "      <td>2021-11-03 04:06:31</td>\n",
              "      <td>52.58000</td>\n",
              "      <td>49.52000</td>\n",
              "      <td>17.40000</td>\n",
              "      <td>96.00000</td>\n",
              "      <td>0.00000</td>\n",
              "      <td>3</td>\n",
              "      <td>11</td>\n",
              "      <td>2021</td>\n",
              "      <td>4</td>\n",
              "      <td>44</td>\n",
              "      <td>1</td>\n",
              "    </tr>\n",
              "    <tr>\n",
              "      <th>1</th>\n",
              "      <td>ID_4GTK689CNX5S</td>\n",
              "      <td>2021-11-08 18:43:23</td>\n",
              "      <td>35.25000</td>\n",
              "      <td>33.40000</td>\n",
              "      <td>25.00000</td>\n",
              "      <td>75.00000</td>\n",
              "      <td>0.00000</td>\n",
              "      <td>8</td>\n",
              "      <td>11</td>\n",
              "      <td>2021</td>\n",
              "      <td>18</td>\n",
              "      <td>45</td>\n",
              "      <td>1</td>\n",
              "    </tr>\n",
              "    <tr>\n",
              "      <th>2</th>\n",
              "      <td>ID_DL7VVKW9U7XQ</td>\n",
              "      <td>2021-11-07 09:50:33</td>\n",
              "      <td>19.18000</td>\n",
              "      <td>23.50000</td>\n",
              "      <td>24.90000</td>\n",
              "      <td>75.00000</td>\n",
              "      <td>0.00000</td>\n",
              "      <td>7</td>\n",
              "      <td>11</td>\n",
              "      <td>2021</td>\n",
              "      <td>9</td>\n",
              "      <td>44</td>\n",
              "      <td>1</td>\n",
              "    </tr>\n",
              "    <tr>\n",
              "      <th>3</th>\n",
              "      <td>ID_6XQOMBXM2DG3</td>\n",
              "      <td>2022-01-01 18:55:15</td>\n",
              "      <td>19.40000</td>\n",
              "      <td>15.48000</td>\n",
              "      <td>24.90000</td>\n",
              "      <td>70.00000</td>\n",
              "      <td>0.00000</td>\n",
              "      <td>1</td>\n",
              "      <td>1</td>\n",
              "      <td>2022</td>\n",
              "      <td>18</td>\n",
              "      <td>52</td>\n",
              "      <td>1</td>\n",
              "    </tr>\n",
              "    <tr>\n",
              "      <th>4</th>\n",
              "      <td>ID_UQZW9ISJY9QE</td>\n",
              "      <td>2021-11-05 22:23:48</td>\n",
              "      <td>38.30000</td>\n",
              "      <td>34.77000</td>\n",
              "      <td>20.90000</td>\n",
              "      <td>89.00000</td>\n",
              "      <td>0.00000</td>\n",
              "      <td>5</td>\n",
              "      <td>11</td>\n",
              "      <td>2021</td>\n",
              "      <td>22</td>\n",
              "      <td>44</td>\n",
              "      <td>1</td>\n",
              "    </tr>\n",
              "    <tr>\n",
              "      <th>...</th>\n",
              "      <td>...</td>\n",
              "      <td>...</td>\n",
              "      <td>...</td>\n",
              "      <td>...</td>\n",
              "      <td>...</td>\n",
              "      <td>...</td>\n",
              "      <td>...</td>\n",
              "      <td>...</td>\n",
              "      <td>...</td>\n",
              "      <td>...</td>\n",
              "      <td>...</td>\n",
              "      <td>...</td>\n",
              "      <td>...</td>\n",
              "    </tr>\n",
              "    <tr>\n",
              "      <th>127356</th>\n",
              "      <td>ID_HNCS9Q2GNCQB</td>\n",
              "      <td>2022-02-13 00:37:14</td>\n",
              "      <td>33.65000</td>\n",
              "      <td>42.23000</td>\n",
              "      <td>NaN</td>\n",
              "      <td>NaN</td>\n",
              "      <td>NaN</td>\n",
              "      <td>13</td>\n",
              "      <td>2</td>\n",
              "      <td>2022</td>\n",
              "      <td>0</td>\n",
              "      <td>6</td>\n",
              "      <td>0</td>\n",
              "    </tr>\n",
              "    <tr>\n",
              "      <th>127357</th>\n",
              "      <td>ID_GIIQYTE11L3H</td>\n",
              "      <td>2022-03-09 16:26:42</td>\n",
              "      <td>21.23000</td>\n",
              "      <td>15.72000</td>\n",
              "      <td>NaN</td>\n",
              "      <td>NaN</td>\n",
              "      <td>NaN</td>\n",
              "      <td>9</td>\n",
              "      <td>3</td>\n",
              "      <td>2022</td>\n",
              "      <td>16</td>\n",
              "      <td>10</td>\n",
              "      <td>0</td>\n",
              "    </tr>\n",
              "    <tr>\n",
              "      <th>127358</th>\n",
              "      <td>ID_EC7F1P4GXKCL</td>\n",
              "      <td>2022-02-18 14:47:28</td>\n",
              "      <td>41.45000</td>\n",
              "      <td>47.25000</td>\n",
              "      <td>NaN</td>\n",
              "      <td>NaN</td>\n",
              "      <td>NaN</td>\n",
              "      <td>18</td>\n",
              "      <td>2</td>\n",
              "      <td>2022</td>\n",
              "      <td>14</td>\n",
              "      <td>7</td>\n",
              "      <td>0</td>\n",
              "    </tr>\n",
              "    <tr>\n",
              "      <th>127359</th>\n",
              "      <td>ID_J64RVG2BRAG0</td>\n",
              "      <td>2022-03-11 19:14:11</td>\n",
              "      <td>28.60000</td>\n",
              "      <td>27.27000</td>\n",
              "      <td>NaN</td>\n",
              "      <td>NaN</td>\n",
              "      <td>NaN</td>\n",
              "      <td>11</td>\n",
              "      <td>3</td>\n",
              "      <td>2022</td>\n",
              "      <td>19</td>\n",
              "      <td>10</td>\n",
              "      <td>0</td>\n",
              "    </tr>\n",
              "    <tr>\n",
              "      <th>127360</th>\n",
              "      <td>ID_7ABZNHCIVVAV</td>\n",
              "      <td>2022-03-11 01:51:28</td>\n",
              "      <td>41.87000</td>\n",
              "      <td>39.82000</td>\n",
              "      <td>NaN</td>\n",
              "      <td>NaN</td>\n",
              "      <td>NaN</td>\n",
              "      <td>11</td>\n",
              "      <td>3</td>\n",
              "      <td>2022</td>\n",
              "      <td>1</td>\n",
              "      <td>10</td>\n",
              "      <td>0</td>\n",
              "    </tr>\n",
              "  </tbody>\n",
              "</table>\n",
              "<p>424538 rows × 13 columns</p>\n",
              "</div>"
            ],
            "text/plain": [
              "                     ID            Datetime  Sensor1_PM2.5  Sensor2_PM2.5  \\\n",
              "0       ID_QF0ZTQJ2SF5Q 2021-11-03 04:06:31       52.58000       49.52000   \n",
              "1       ID_4GTK689CNX5S 2021-11-08 18:43:23       35.25000       33.40000   \n",
              "2       ID_DL7VVKW9U7XQ 2021-11-07 09:50:33       19.18000       23.50000   \n",
              "3       ID_6XQOMBXM2DG3 2022-01-01 18:55:15       19.40000       15.48000   \n",
              "4       ID_UQZW9ISJY9QE 2021-11-05 22:23:48       38.30000       34.77000   \n",
              "...                 ...                 ...            ...            ...   \n",
              "127356  ID_HNCS9Q2GNCQB 2022-02-13 00:37:14       33.65000       42.23000   \n",
              "127357  ID_GIIQYTE11L3H 2022-03-09 16:26:42       21.23000       15.72000   \n",
              "127358  ID_EC7F1P4GXKCL 2022-02-18 14:47:28       41.45000       47.25000   \n",
              "127359  ID_J64RVG2BRAG0 2022-03-11 19:14:11       28.60000       27.27000   \n",
              "127360  ID_7ABZNHCIVVAV 2022-03-11 01:51:28       41.87000       39.82000   \n",
              "\n",
              "        Temperature  Relative_Humidity  Offset_fault  Datetime_day  \\\n",
              "0          17.40000           96.00000       0.00000             3   \n",
              "1          25.00000           75.00000       0.00000             8   \n",
              "2          24.90000           75.00000       0.00000             7   \n",
              "3          24.90000           70.00000       0.00000             1   \n",
              "4          20.90000           89.00000       0.00000             5   \n",
              "...             ...                ...           ...           ...   \n",
              "127356          NaN                NaN           NaN            13   \n",
              "127357          NaN                NaN           NaN             9   \n",
              "127358          NaN                NaN           NaN            18   \n",
              "127359          NaN                NaN           NaN            11   \n",
              "127360          NaN                NaN           NaN            11   \n",
              "\n",
              "        Datetime_month  Datetime_year  Datetime_hour  Datetime_week  is_train  \n",
              "0                   11           2021              4             44         1  \n",
              "1                   11           2021             18             45         1  \n",
              "2                   11           2021              9             44         1  \n",
              "3                    1           2022             18             52         1  \n",
              "4                   11           2021             22             44         1  \n",
              "...                ...            ...            ...            ...       ...  \n",
              "127356               2           2022              0              6         0  \n",
              "127357               3           2022             16             10         0  \n",
              "127358               2           2022             14              7         0  \n",
              "127359               3           2022             19             10         0  \n",
              "127360               3           2022              1             10         0  \n",
              "\n",
              "[424538 rows x 13 columns]"
            ]
          },
          "execution_count": 10,
          "metadata": {},
          "output_type": "execute_result"
        }
      ],
      "source": [
        "# combine train and test\n",
        "data = pd.concat([train.assign(is_train=1), test.assign(is_train=0)], sort = False)\n",
        "data"
      ]
    },
    {
      "cell_type": "code",
      "execution_count": 21,
      "metadata": {},
      "outputs": [
        {
          "data": {
            "text/plain": [
              "ID                        0\n",
              "Datetime                  0\n",
              "Sensor1_PM2.5          3614\n",
              "Sensor2_PM2.5          3614\n",
              "Temperature           91639\n",
              "Relative_Humidity     91639\n",
              "Offset_fault         127361\n",
              "Datetime_day              0\n",
              "Datetime_month            0\n",
              "Datetime_year             0\n",
              "Datetime_hour             0\n",
              "Datetime_week             0\n",
              "is_train                  0\n",
              "dtype: int64"
            ]
          },
          "execution_count": 21,
          "metadata": {},
          "output_type": "execute_result"
        }
      ],
      "source": [
        "data.isna().sum()"
      ]
    },
    {
      "cell_type": "code",
      "execution_count": 22,
      "metadata": {},
      "outputs": [
        {
          "data": {
            "text/plain": [
              "ID                        0\n",
              "Datetime                  0\n",
              "Sensor1_PM2.5          3614\n",
              "Sensor2_PM2.5          3614\n",
              "Temperature           76893\n",
              "Relative_Humidity     76893\n",
              "Offset_fault         127361\n",
              "Datetime_day              0\n",
              "Datetime_month            0\n",
              "Datetime_year             0\n",
              "Datetime_hour             0\n",
              "Datetime_week             0\n",
              "is_train                  0\n",
              "dtype: int64"
            ]
          },
          "execution_count": 22,
          "metadata": {},
          "output_type": "execute_result"
        }
      ],
      "source": [
        "# fill the mean tempreture and relative humidity of by grouping them by week \n",
        "data[\"Temperature\"] =  data.groupby('Datetime_week')['Temperature'].transform('mean')\n",
        "data[\"Relative_Humidity\"] =  data.groupby('Datetime_week')['Relative_Humidity'].transform('mean')\n",
        "\n",
        "data.isna().sum()\n"
      ]
    },
    {
      "cell_type": "code",
      "execution_count": 27,
      "metadata": {},
      "outputs": [
        {
          "data": {
            "text/html": [
              "<div>\n",
              "<style scoped>\n",
              "    .dataframe tbody tr th:only-of-type {\n",
              "        vertical-align: middle;\n",
              "    }\n",
              "\n",
              "    .dataframe tbody tr th {\n",
              "        vertical-align: top;\n",
              "    }\n",
              "\n",
              "    .dataframe thead th {\n",
              "        text-align: right;\n",
              "    }\n",
              "</style>\n",
              "<table border=\"1\" class=\"dataframe\">\n",
              "  <thead>\n",
              "    <tr style=\"text-align: right;\">\n",
              "      <th></th>\n",
              "      <th>ID</th>\n",
              "      <th>Datetime</th>\n",
              "      <th>Sensor1_PM2.5</th>\n",
              "      <th>Sensor2_PM2.5</th>\n",
              "      <th>Temperature</th>\n",
              "      <th>Relative_Humidity</th>\n",
              "      <th>Offset_fault</th>\n",
              "      <th>Datetime_day</th>\n",
              "      <th>Datetime_month</th>\n",
              "      <th>Datetime_year</th>\n",
              "      <th>Datetime_hour</th>\n",
              "      <th>Datetime_week</th>\n",
              "      <th>is_train</th>\n",
              "    </tr>\n",
              "  </thead>\n",
              "  <tbody>\n",
              "    <tr>\n",
              "      <th>count</th>\n",
              "      <td>424538</td>\n",
              "      <td>424538</td>\n",
              "      <td>420924.00000</td>\n",
              "      <td>420924.00000</td>\n",
              "      <td>347645.00000</td>\n",
              "      <td>347645.00000</td>\n",
              "      <td>297177.00000</td>\n",
              "      <td>424538.00000</td>\n",
              "      <td>424538.00000</td>\n",
              "      <td>424538.00000</td>\n",
              "      <td>424538.00000</td>\n",
              "      <td>424538.00000</td>\n",
              "      <td>424538.00000</td>\n",
              "    </tr>\n",
              "    <tr>\n",
              "      <th>unique</th>\n",
              "      <td>424538</td>\n",
              "      <td>419843</td>\n",
              "      <td>NaN</td>\n",
              "      <td>NaN</td>\n",
              "      <td>NaN</td>\n",
              "      <td>NaN</td>\n",
              "      <td>NaN</td>\n",
              "      <td>NaN</td>\n",
              "      <td>NaN</td>\n",
              "      <td>NaN</td>\n",
              "      <td>NaN</td>\n",
              "      <td>NaN</td>\n",
              "      <td>NaN</td>\n",
              "    </tr>\n",
              "    <tr>\n",
              "      <th>top</th>\n",
              "      <td>ID_QF0ZTQJ2SF5Q</td>\n",
              "      <td>2022-01-18 03:37:05</td>\n",
              "      <td>NaN</td>\n",
              "      <td>NaN</td>\n",
              "      <td>NaN</td>\n",
              "      <td>NaN</td>\n",
              "      <td>NaN</td>\n",
              "      <td>NaN</td>\n",
              "      <td>NaN</td>\n",
              "      <td>NaN</td>\n",
              "      <td>NaN</td>\n",
              "      <td>NaN</td>\n",
              "      <td>NaN</td>\n",
              "    </tr>\n",
              "    <tr>\n",
              "      <th>freq</th>\n",
              "      <td>1</td>\n",
              "      <td>3</td>\n",
              "      <td>NaN</td>\n",
              "      <td>NaN</td>\n",
              "      <td>NaN</td>\n",
              "      <td>NaN</td>\n",
              "      <td>NaN</td>\n",
              "      <td>NaN</td>\n",
              "      <td>NaN</td>\n",
              "      <td>NaN</td>\n",
              "      <td>NaN</td>\n",
              "      <td>NaN</td>\n",
              "      <td>NaN</td>\n",
              "    </tr>\n",
              "    <tr>\n",
              "      <th>first</th>\n",
              "      <td>NaN</td>\n",
              "      <td>2021-10-15 16:00:31</td>\n",
              "      <td>NaN</td>\n",
              "      <td>NaN</td>\n",
              "      <td>NaN</td>\n",
              "      <td>NaN</td>\n",
              "      <td>NaN</td>\n",
              "      <td>NaN</td>\n",
              "      <td>NaN</td>\n",
              "      <td>NaN</td>\n",
              "      <td>NaN</td>\n",
              "      <td>NaN</td>\n",
              "      <td>NaN</td>\n",
              "    </tr>\n",
              "    <tr>\n",
              "      <th>last</th>\n",
              "      <td>NaN</td>\n",
              "      <td>2022-03-14 14:50:35</td>\n",
              "      <td>NaN</td>\n",
              "      <td>NaN</td>\n",
              "      <td>NaN</td>\n",
              "      <td>NaN</td>\n",
              "      <td>NaN</td>\n",
              "      <td>NaN</td>\n",
              "      <td>NaN</td>\n",
              "      <td>NaN</td>\n",
              "      <td>NaN</td>\n",
              "      <td>NaN</td>\n",
              "      <td>NaN</td>\n",
              "    </tr>\n",
              "    <tr>\n",
              "      <th>mean</th>\n",
              "      <td>NaN</td>\n",
              "      <td>NaN</td>\n",
              "      <td>41.36971</td>\n",
              "      <td>39.93051</td>\n",
              "      <td>23.32195</td>\n",
              "      <td>77.43140</td>\n",
              "      <td>0.37107</td>\n",
              "      <td>15.65939</td>\n",
              "      <td>6.98422</td>\n",
              "      <td>2021.44551</td>\n",
              "      <td>11.41703</td>\n",
              "      <td>29.04089</td>\n",
              "      <td>0.70000</td>\n",
              "    </tr>\n",
              "    <tr>\n",
              "      <th>std</th>\n",
              "      <td>NaN</td>\n",
              "      <td>NaN</td>\n",
              "      <td>28.33547</td>\n",
              "      <td>28.65414</td>\n",
              "      <td>0.85758</td>\n",
              "      <td>5.33788</td>\n",
              "      <td>0.48309</td>\n",
              "      <td>8.93365</td>\n",
              "      <td>4.75115</td>\n",
              "      <td>0.49702</td>\n",
              "      <td>6.93190</td>\n",
              "      <td>20.70265</td>\n",
              "      <td>0.45826</td>\n",
              "    </tr>\n",
              "    <tr>\n",
              "      <th>min</th>\n",
              "      <td>NaN</td>\n",
              "      <td>NaN</td>\n",
              "      <td>-9.45000</td>\n",
              "      <td>-9.70000</td>\n",
              "      <td>21.39444</td>\n",
              "      <td>62.39516</td>\n",
              "      <td>0.00000</td>\n",
              "      <td>1.00000</td>\n",
              "      <td>1.00000</td>\n",
              "      <td>2021.00000</td>\n",
              "      <td>0.00000</td>\n",
              "      <td>1.00000</td>\n",
              "      <td>0.00000</td>\n",
              "    </tr>\n",
              "    <tr>\n",
              "      <th>25%</th>\n",
              "      <td>NaN</td>\n",
              "      <td>NaN</td>\n",
              "      <td>23.07000</td>\n",
              "      <td>21.03000</td>\n",
              "      <td>22.68374</td>\n",
              "      <td>74.35658</td>\n",
              "      <td>0.00000</td>\n",
              "      <td>8.00000</td>\n",
              "      <td>2.00000</td>\n",
              "      <td>2021.00000</td>\n",
              "      <td>5.00000</td>\n",
              "      <td>7.00000</td>\n",
              "      <td>0.00000</td>\n",
              "    </tr>\n",
              "    <tr>\n",
              "      <th>50%</th>\n",
              "      <td>NaN</td>\n",
              "      <td>NaN</td>\n",
              "      <td>37.42000</td>\n",
              "      <td>35.43000</td>\n",
              "      <td>23.49934</td>\n",
              "      <td>77.87312</td>\n",
              "      <td>0.00000</td>\n",
              "      <td>16.00000</td>\n",
              "      <td>10.00000</td>\n",
              "      <td>2021.00000</td>\n",
              "      <td>11.00000</td>\n",
              "      <td>43.00000</td>\n",
              "      <td>1.00000</td>\n",
              "    </tr>\n",
              "    <tr>\n",
              "      <th>75%</th>\n",
              "      <td>NaN</td>\n",
              "      <td>NaN</td>\n",
              "      <td>50.27000</td>\n",
              "      <td>49.32000</td>\n",
              "      <td>23.84754</td>\n",
              "      <td>80.70319</td>\n",
              "      <td>1.00000</td>\n",
              "      <td>24.00000</td>\n",
              "      <td>11.00000</td>\n",
              "      <td>2022.00000</td>\n",
              "      <td>17.00000</td>\n",
              "      <td>48.00000</td>\n",
              "      <td>1.00000</td>\n",
              "    </tr>\n",
              "    <tr>\n",
              "      <th>max</th>\n",
              "      <td>NaN</td>\n",
              "      <td>NaN</td>\n",
              "      <td>997.96000</td>\n",
              "      <td>997.26000</td>\n",
              "      <td>24.74588</td>\n",
              "      <td>85.17815</td>\n",
              "      <td>1.00000</td>\n",
              "      <td>31.00000</td>\n",
              "      <td>12.00000</td>\n",
              "      <td>2022.00000</td>\n",
              "      <td>23.00000</td>\n",
              "      <td>52.00000</td>\n",
              "      <td>1.00000</td>\n",
              "    </tr>\n",
              "  </tbody>\n",
              "</table>\n",
              "</div>"
            ],
            "text/plain": [
              "                     ID             Datetime  Sensor1_PM2.5  Sensor2_PM2.5  \\\n",
              "count            424538               424538   420924.00000   420924.00000   \n",
              "unique           424538               419843            NaN            NaN   \n",
              "top     ID_QF0ZTQJ2SF5Q  2022-01-18 03:37:05            NaN            NaN   \n",
              "freq                  1                    3            NaN            NaN   \n",
              "first               NaN  2021-10-15 16:00:31            NaN            NaN   \n",
              "last                NaN  2022-03-14 14:50:35            NaN            NaN   \n",
              "mean                NaN                  NaN       41.36971       39.93051   \n",
              "std                 NaN                  NaN       28.33547       28.65414   \n",
              "min                 NaN                  NaN       -9.45000       -9.70000   \n",
              "25%                 NaN                  NaN       23.07000       21.03000   \n",
              "50%                 NaN                  NaN       37.42000       35.43000   \n",
              "75%                 NaN                  NaN       50.27000       49.32000   \n",
              "max                 NaN                  NaN      997.96000      997.26000   \n",
              "\n",
              "        Temperature  Relative_Humidity  Offset_fault  Datetime_day  \\\n",
              "count  347645.00000       347645.00000  297177.00000  424538.00000   \n",
              "unique          NaN                NaN           NaN           NaN   \n",
              "top             NaN                NaN           NaN           NaN   \n",
              "freq            NaN                NaN           NaN           NaN   \n",
              "first           NaN                NaN           NaN           NaN   \n",
              "last            NaN                NaN           NaN           NaN   \n",
              "mean       23.32195           77.43140       0.37107      15.65939   \n",
              "std         0.85758            5.33788       0.48309       8.93365   \n",
              "min        21.39444           62.39516       0.00000       1.00000   \n",
              "25%        22.68374           74.35658       0.00000       8.00000   \n",
              "50%        23.49934           77.87312       0.00000      16.00000   \n",
              "75%        23.84754           80.70319       1.00000      24.00000   \n",
              "max        24.74588           85.17815       1.00000      31.00000   \n",
              "\n",
              "        Datetime_month  Datetime_year  Datetime_hour  Datetime_week  \\\n",
              "count     424538.00000   424538.00000   424538.00000   424538.00000   \n",
              "unique             NaN            NaN            NaN            NaN   \n",
              "top                NaN            NaN            NaN            NaN   \n",
              "freq               NaN            NaN            NaN            NaN   \n",
              "first              NaN            NaN            NaN            NaN   \n",
              "last               NaN            NaN            NaN            NaN   \n",
              "mean           6.98422     2021.44551       11.41703       29.04089   \n",
              "std            4.75115        0.49702        6.93190       20.70265   \n",
              "min            1.00000     2021.00000        0.00000        1.00000   \n",
              "25%            2.00000     2021.00000        5.00000        7.00000   \n",
              "50%           10.00000     2021.00000       11.00000       43.00000   \n",
              "75%           11.00000     2022.00000       17.00000       48.00000   \n",
              "max           12.00000     2022.00000       23.00000       52.00000   \n",
              "\n",
              "           is_train  \n",
              "count  424538.00000  \n",
              "unique          NaN  \n",
              "top             NaN  \n",
              "freq            NaN  \n",
              "first           NaN  \n",
              "last            NaN  \n",
              "mean        0.70000  \n",
              "std         0.45826  \n",
              "min         0.00000  \n",
              "25%         0.00000  \n",
              "50%         1.00000  \n",
              "75%         1.00000  \n",
              "max         1.00000  "
            ]
          },
          "execution_count": 27,
          "metadata": {},
          "output_type": "execute_result"
        }
      ],
      "source": [
        "data.describe(include = 'all')"
      ]
    },
    {
      "cell_type": "code",
      "execution_count": 29,
      "metadata": {},
      "outputs": [
        {
          "name": "stdout",
          "output_type": "stream",
          "text": [
            "12 12\n"
          ]
        }
      ],
      "source": [
        "mothly_mean_temp = [24, 24.5, 23.5, 23, 22.5, 22, 21, 21.5, 21.5, 22.5, 22.5, 23]\n",
        "monthly_mean_hum = [72, 72, 76, 83, 84, 79, 75, 77, 81, 83, 85, 80]\n",
        "print(len(mothly_mean_temp), len(monthly_mean_hum))"
      ]
    },
    {
      "cell_type": "code",
      "execution_count": 37,
      "metadata": {},
      "outputs": [
        {
          "data": {
            "text/plain": [
              "ID                        0\n",
              "Datetime                  0\n",
              "Sensor1_PM2.5          3614\n",
              "Sensor2_PM2.5          3614\n",
              "Temperature               0\n",
              "Relative_Humidity         0\n",
              "Offset_fault         127361\n",
              "Datetime_day              0\n",
              "Datetime_month            0\n",
              "Datetime_year             0\n",
              "Datetime_hour             0\n",
              "Datetime_week             0\n",
              "is_train                  0\n",
              "dtype: int64"
            ]
          },
          "execution_count": 37,
          "metadata": {},
          "output_type": "execute_result"
        }
      ],
      "source": [
        "# fill the null values with the monthly mean tempreture and relative humidity\n",
        "for month in range(12):\n",
        "    t_inx = data[(data.Datetime_month == month + 1) & (data.Temperature.isna())].index\n",
        "    h_inx = data[(data.Datetime_month == month + 1) & (data.Relative_Humidity.isna())].index\n",
        "\n",
        "    data.Temperature.loc[t_inx] = mothly_mean_temp[month]\n",
        "    data.Relative_Humidity.loc[h_inx] = monthly_mean_hum[month]\n",
        "\n",
        "data.isna().sum()"
      ]
    },
    {
      "cell_type": "code",
      "execution_count": 38,
      "metadata": {},
      "outputs": [
        {
          "data": {
            "text/plain": [
              "ID                        0\n",
              "Datetime                  0\n",
              "Sensor1_PM2.5             0\n",
              "Sensor2_PM2.5             0\n",
              "Temperature               0\n",
              "Relative_Humidity         0\n",
              "Offset_fault         127361\n",
              "Datetime_day              0\n",
              "Datetime_month            0\n",
              "Datetime_year             0\n",
              "Datetime_hour             0\n",
              "Datetime_week             0\n",
              "is_train                  0\n",
              "dtype: int64"
            ]
          },
          "execution_count": 38,
          "metadata": {},
          "output_type": "execute_result"
        }
      ],
      "source": [
        "for sen in ['Sensor1_PM2.5', 'Sensor2_PM2.5']:\n",
        "    data[sen] = data[sen].fillna(data[sen].mean())\n",
        "data.isna().sum()"
      ]
    },
    {
      "cell_type": "markdown",
      "metadata": {
        "id": "2gIDFBaMs8fk"
      },
      "source": [
        "<a name=\"Modelling\"></a>\n",
        "## 10.  Modelling"
      ]
    },
    {
      "cell_type": "code",
      "execution_count": 39,
      "metadata": {},
      "outputs": [
        {
          "data": {
            "text/html": [
              "<div>\n",
              "<style scoped>\n",
              "    .dataframe tbody tr th:only-of-type {\n",
              "        vertical-align: middle;\n",
              "    }\n",
              "\n",
              "    .dataframe tbody tr th {\n",
              "        vertical-align: top;\n",
              "    }\n",
              "\n",
              "    .dataframe thead th {\n",
              "        text-align: right;\n",
              "    }\n",
              "</style>\n",
              "<table border=\"1\" class=\"dataframe\">\n",
              "  <thead>\n",
              "    <tr style=\"text-align: right;\">\n",
              "      <th></th>\n",
              "      <th>ID</th>\n",
              "      <th>Datetime</th>\n",
              "      <th>Sensor1_PM2.5</th>\n",
              "      <th>Sensor2_PM2.5</th>\n",
              "      <th>Temperature</th>\n",
              "      <th>Relative_Humidity</th>\n",
              "      <th>Offset_fault</th>\n",
              "      <th>Datetime_day</th>\n",
              "      <th>Datetime_month</th>\n",
              "      <th>Datetime_year</th>\n",
              "      <th>Datetime_hour</th>\n",
              "      <th>Datetime_week</th>\n",
              "      <th>is_train</th>\n",
              "    </tr>\n",
              "  </thead>\n",
              "  <tbody>\n",
              "    <tr>\n",
              "      <th>0</th>\n",
              "      <td>ID_QF0ZTQJ2SF5Q</td>\n",
              "      <td>2021-11-03 04:06:31</td>\n",
              "      <td>52.58000</td>\n",
              "      <td>49.52000</td>\n",
              "      <td>21.89436</td>\n",
              "      <td>85.17815</td>\n",
              "      <td>0.00000</td>\n",
              "      <td>3</td>\n",
              "      <td>11</td>\n",
              "      <td>2021</td>\n",
              "      <td>4</td>\n",
              "      <td>44</td>\n",
              "      <td>1</td>\n",
              "    </tr>\n",
              "    <tr>\n",
              "      <th>1</th>\n",
              "      <td>ID_4GTK689CNX5S</td>\n",
              "      <td>2021-11-08 18:43:23</td>\n",
              "      <td>35.25000</td>\n",
              "      <td>33.40000</td>\n",
              "      <td>24.50000</td>\n",
              "      <td>72.00000</td>\n",
              "      <td>0.00000</td>\n",
              "      <td>8</td>\n",
              "      <td>11</td>\n",
              "      <td>2021</td>\n",
              "      <td>18</td>\n",
              "      <td>45</td>\n",
              "      <td>1</td>\n",
              "    </tr>\n",
              "    <tr>\n",
              "      <th>2</th>\n",
              "      <td>ID_DL7VVKW9U7XQ</td>\n",
              "      <td>2021-11-07 09:50:33</td>\n",
              "      <td>19.18000</td>\n",
              "      <td>23.50000</td>\n",
              "      <td>21.89436</td>\n",
              "      <td>85.17815</td>\n",
              "      <td>0.00000</td>\n",
              "      <td>7</td>\n",
              "      <td>11</td>\n",
              "      <td>2021</td>\n",
              "      <td>9</td>\n",
              "      <td>44</td>\n",
              "      <td>1</td>\n",
              "    </tr>\n",
              "    <tr>\n",
              "      <th>3</th>\n",
              "      <td>ID_6XQOMBXM2DG3</td>\n",
              "      <td>2022-01-01 18:55:15</td>\n",
              "      <td>19.40000</td>\n",
              "      <td>15.48000</td>\n",
              "      <td>22.56224</td>\n",
              "      <td>83.26459</td>\n",
              "      <td>0.00000</td>\n",
              "      <td>1</td>\n",
              "      <td>1</td>\n",
              "      <td>2022</td>\n",
              "      <td>18</td>\n",
              "      <td>52</td>\n",
              "      <td>1</td>\n",
              "    </tr>\n",
              "    <tr>\n",
              "      <th>4</th>\n",
              "      <td>ID_UQZW9ISJY9QE</td>\n",
              "      <td>2021-11-05 22:23:48</td>\n",
              "      <td>38.30000</td>\n",
              "      <td>34.77000</td>\n",
              "      <td>21.89436</td>\n",
              "      <td>85.17815</td>\n",
              "      <td>0.00000</td>\n",
              "      <td>5</td>\n",
              "      <td>11</td>\n",
              "      <td>2021</td>\n",
              "      <td>22</td>\n",
              "      <td>44</td>\n",
              "      <td>1</td>\n",
              "    </tr>\n",
              "    <tr>\n",
              "      <th>...</th>\n",
              "      <td>...</td>\n",
              "      <td>...</td>\n",
              "      <td>...</td>\n",
              "      <td>...</td>\n",
              "      <td>...</td>\n",
              "      <td>...</td>\n",
              "      <td>...</td>\n",
              "      <td>...</td>\n",
              "      <td>...</td>\n",
              "      <td>...</td>\n",
              "      <td>...</td>\n",
              "      <td>...</td>\n",
              "      <td>...</td>\n",
              "    </tr>\n",
              "    <tr>\n",
              "      <th>297172</th>\n",
              "      <td>ID_AQFTZIKVX2QL</td>\n",
              "      <td>2021-11-19 12:32:00</td>\n",
              "      <td>36.40000</td>\n",
              "      <td>37.77000</td>\n",
              "      <td>23.55552</td>\n",
              "      <td>77.09837</td>\n",
              "      <td>0.00000</td>\n",
              "      <td>19</td>\n",
              "      <td>11</td>\n",
              "      <td>2021</td>\n",
              "      <td>12</td>\n",
              "      <td>46</td>\n",
              "      <td>1</td>\n",
              "    </tr>\n",
              "    <tr>\n",
              "      <th>297173</th>\n",
              "      <td>ID_2X0AJPWOMJNA</td>\n",
              "      <td>2021-11-22 01:22:54</td>\n",
              "      <td>50.12000</td>\n",
              "      <td>40.63000</td>\n",
              "      <td>22.75265</td>\n",
              "      <td>80.39240</td>\n",
              "      <td>1.00000</td>\n",
              "      <td>22</td>\n",
              "      <td>11</td>\n",
              "      <td>2021</td>\n",
              "      <td>1</td>\n",
              "      <td>47</td>\n",
              "      <td>1</td>\n",
              "    </tr>\n",
              "    <tr>\n",
              "      <th>297174</th>\n",
              "      <td>ID_0OAQMV7USTI4</td>\n",
              "      <td>2021-11-05 01:27:31</td>\n",
              "      <td>53.68000</td>\n",
              "      <td>45.23000</td>\n",
              "      <td>21.89436</td>\n",
              "      <td>85.17815</td>\n",
              "      <td>1.00000</td>\n",
              "      <td>5</td>\n",
              "      <td>11</td>\n",
              "      <td>2021</td>\n",
              "      <td>1</td>\n",
              "      <td>44</td>\n",
              "      <td>1</td>\n",
              "    </tr>\n",
              "    <tr>\n",
              "      <th>297175</th>\n",
              "      <td>ID_Y8FDAO06VXGJ</td>\n",
              "      <td>2021-11-23 22:09:30</td>\n",
              "      <td>96.45000</td>\n",
              "      <td>114.67000</td>\n",
              "      <td>22.75265</td>\n",
              "      <td>80.39240</td>\n",
              "      <td>0.00000</td>\n",
              "      <td>23</td>\n",
              "      <td>11</td>\n",
              "      <td>2021</td>\n",
              "      <td>22</td>\n",
              "      <td>47</td>\n",
              "      <td>1</td>\n",
              "    </tr>\n",
              "    <tr>\n",
              "      <th>297176</th>\n",
              "      <td>ID_3XEXH72VWK4J</td>\n",
              "      <td>2021-11-23 06:33:04</td>\n",
              "      <td>44.27000</td>\n",
              "      <td>36.77000</td>\n",
              "      <td>22.75265</td>\n",
              "      <td>80.39240</td>\n",
              "      <td>1.00000</td>\n",
              "      <td>23</td>\n",
              "      <td>11</td>\n",
              "      <td>2021</td>\n",
              "      <td>6</td>\n",
              "      <td>47</td>\n",
              "      <td>1</td>\n",
              "    </tr>\n",
              "  </tbody>\n",
              "</table>\n",
              "<p>297177 rows × 13 columns</p>\n",
              "</div>"
            ],
            "text/plain": [
              "                     ID            Datetime  Sensor1_PM2.5  Sensor2_PM2.5  \\\n",
              "0       ID_QF0ZTQJ2SF5Q 2021-11-03 04:06:31       52.58000       49.52000   \n",
              "1       ID_4GTK689CNX5S 2021-11-08 18:43:23       35.25000       33.40000   \n",
              "2       ID_DL7VVKW9U7XQ 2021-11-07 09:50:33       19.18000       23.50000   \n",
              "3       ID_6XQOMBXM2DG3 2022-01-01 18:55:15       19.40000       15.48000   \n",
              "4       ID_UQZW9ISJY9QE 2021-11-05 22:23:48       38.30000       34.77000   \n",
              "...                 ...                 ...            ...            ...   \n",
              "297172  ID_AQFTZIKVX2QL 2021-11-19 12:32:00       36.40000       37.77000   \n",
              "297173  ID_2X0AJPWOMJNA 2021-11-22 01:22:54       50.12000       40.63000   \n",
              "297174  ID_0OAQMV7USTI4 2021-11-05 01:27:31       53.68000       45.23000   \n",
              "297175  ID_Y8FDAO06VXGJ 2021-11-23 22:09:30       96.45000      114.67000   \n",
              "297176  ID_3XEXH72VWK4J 2021-11-23 06:33:04       44.27000       36.77000   \n",
              "\n",
              "        Temperature  Relative_Humidity  Offset_fault  Datetime_day  \\\n",
              "0          21.89436           85.17815       0.00000             3   \n",
              "1          24.50000           72.00000       0.00000             8   \n",
              "2          21.89436           85.17815       0.00000             7   \n",
              "3          22.56224           83.26459       0.00000             1   \n",
              "4          21.89436           85.17815       0.00000             5   \n",
              "...             ...                ...           ...           ...   \n",
              "297172     23.55552           77.09837       0.00000            19   \n",
              "297173     22.75265           80.39240       1.00000            22   \n",
              "297174     21.89436           85.17815       1.00000             5   \n",
              "297175     22.75265           80.39240       0.00000            23   \n",
              "297176     22.75265           80.39240       1.00000            23   \n",
              "\n",
              "        Datetime_month  Datetime_year  Datetime_hour  Datetime_week  is_train  \n",
              "0                   11           2021              4             44         1  \n",
              "1                   11           2021             18             45         1  \n",
              "2                   11           2021              9             44         1  \n",
              "3                    1           2022             18             52         1  \n",
              "4                   11           2021             22             44         1  \n",
              "...                ...            ...            ...            ...       ...  \n",
              "297172              11           2021             12             46         1  \n",
              "297173              11           2021              1             47         1  \n",
              "297174              11           2021              1             44         1  \n",
              "297175              11           2021             22             47         1  \n",
              "297176              11           2021              6             47         1  \n",
              "\n",
              "[297177 rows x 13 columns]"
            ]
          },
          "execution_count": 39,
          "metadata": {},
          "output_type": "execute_result"
        }
      ],
      "source": [
        "train, test = data[data.is_train == 1], data[data.is_train == 0]\n",
        "train"
      ]
    },
    {
      "cell_type": "code",
      "execution_count": 40,
      "metadata": {
        "colab": {
          "base_uri": "https://localhost:8080/"
        },
        "id": "e3cCJUM2s4Q5",
        "outputId": "ca20a8f7-77f9-4f92-b257-5c4bb89f954a"
      },
      "outputs": [
        {
          "name": "stdout",
          "output_type": "stream",
          "text": [
            "Accuracy score: 0.724959059604729\n",
            "\n",
            "\n",
            "              precision    recall  f1-score   support\n",
            "\n",
            "         0.0       0.71      0.96      0.81     55966\n",
            "         1.0       0.83      0.33      0.47     33188\n",
            "\n",
            "    accuracy                           0.72     89154\n",
            "   macro avg       0.77      0.64      0.64     89154\n",
            "weighted avg       0.75      0.72      0.69     89154\n",
            "\n"
          ]
        }
      ],
      "source": [
        "# Selecting the independent variables and the target variable\n",
        "train_feats = ['Sensor1_PM2.5',\t'Sensor2_PM2.5',\t'Temperature',\t'Relative_Humidity',\t'Datetime_day',\\\n",
        "               'Datetime_month',\t'Datetime_year', 'Datetime_hour', 'Datetime_week']\n",
        "\n",
        "X = train[train_feats].fillna(0)\n",
        "y = train.Offset_fault\n",
        "\n",
        "# Splitting the data into training and testing sets\n",
        "X_train, X_test, y_train, y_test = train_test_split(X, y, test_size = 0.3, random_state = 0)\n",
        "\n",
        "# Instantiating the model\n",
        "clf = RandomForestClassifier(max_depth = 3, random_state = 0)\n",
        "# clf = CatBoostClassifier(verbose=False)\n",
        "clf.fit(X_train, y_train)\n",
        "\n",
        "# Making predictions\n",
        "y_pred = clf.predict(X_test)\n",
        "\n",
        "# Measuring the accuracy of the model\n",
        "print(f'Accuracy score: {accuracy_score(y_test, y_pred)}')\n",
        "print('\\n')\n",
        "print(f'{classification_report(y_test, y_pred)}')"
      ]
    },
    {
      "cell_type": "code",
      "execution_count": null,
      "metadata": {},
      "outputs": [],
      "source": []
    },
    {
      "cell_type": "code",
      "execution_count": null,
      "metadata": {},
      "outputs": [],
      "source": []
    },
    {
      "cell_type": "code",
      "execution_count": 20,
      "metadata": {
        "colab": {
          "base_uri": "https://localhost:8080/",
          "height": 442
        },
        "id": "HBOYZhh0JE9L",
        "outputId": "1e000383-ae70-4fdf-9eed-f5b14192687c"
      },
      "outputs": [
        {
          "data": {
            "image/png": "[encoded data removed]",
            "text/plain": [
              "<Figure size 1080x504 with 2 Axes>"
            ]
          },
          "metadata": {},
          "output_type": "display_data"
        }
      ],
      "source": [
        "# Confusion matrix\n",
        "cm = confusion_matrix(y_test, y_pred, labels=clf.classes_)\n",
        "disp = ConfusionMatrixDisplay(confusion_matrix=cm, display_labels=clf.classes_)\n",
        "fig, ax = plt.subplots(figsize=(15,7))\n",
        "disp.plot(ax=ax)\n",
        "plt.show()"
      ]
    },
    {
      "cell_type": "code",
      "execution_count": 42,
      "metadata": {},
      "outputs": [
        {
          "data": {
            "text/html": [
              "<div>\n",
              "<style scoped>\n",
              "    .dataframe tbody tr th:only-of-type {\n",
              "        vertical-align: middle;\n",
              "    }\n",
              "\n",
              "    .dataframe tbody tr th {\n",
              "        vertical-align: top;\n",
              "    }\n",
              "\n",
              "    .dataframe thead th {\n",
              "        text-align: right;\n",
              "    }\n",
              "</style>\n",
              "<table border=\"1\" class=\"dataframe\">\n",
              "  <thead>\n",
              "    <tr style=\"text-align: right;\">\n",
              "      <th></th>\n",
              "      <th>Sensor1_PM2.5</th>\n",
              "      <th>Sensor2_PM2.5</th>\n",
              "      <th>Temperature</th>\n",
              "      <th>Relative_Humidity</th>\n",
              "      <th>Datetime_day</th>\n",
              "      <th>Datetime_month</th>\n",
              "      <th>Datetime_year</th>\n",
              "      <th>Datetime_hour</th>\n",
              "      <th>Datetime_week</th>\n",
              "      <th>Offset_fault</th>\n",
              "    </tr>\n",
              "  </thead>\n",
              "  <tbody>\n",
              "    <tr>\n",
              "      <th>0</th>\n",
              "      <td>52.58000</td>\n",
              "      <td>49.52000</td>\n",
              "      <td>21.89436</td>\n",
              "      <td>85.17815</td>\n",
              "      <td>3</td>\n",
              "      <td>11</td>\n",
              "      <td>2021</td>\n",
              "      <td>4</td>\n",
              "      <td>44</td>\n",
              "      <td>0</td>\n",
              "    </tr>\n",
              "    <tr>\n",
              "      <th>1</th>\n",
              "      <td>35.25000</td>\n",
              "      <td>33.40000</td>\n",
              "      <td>24.50000</td>\n",
              "      <td>72.00000</td>\n",
              "      <td>8</td>\n",
              "      <td>11</td>\n",
              "      <td>2021</td>\n",
              "      <td>18</td>\n",
              "      <td>45</td>\n",
              "      <td>0</td>\n",
              "    </tr>\n",
              "    <tr>\n",
              "      <th>2</th>\n",
              "      <td>19.18000</td>\n",
              "      <td>23.50000</td>\n",
              "      <td>21.89436</td>\n",
              "      <td>85.17815</td>\n",
              "      <td>7</td>\n",
              "      <td>11</td>\n",
              "      <td>2021</td>\n",
              "      <td>9</td>\n",
              "      <td>44</td>\n",
              "      <td>0</td>\n",
              "    </tr>\n",
              "    <tr>\n",
              "      <th>3</th>\n",
              "      <td>19.40000</td>\n",
              "      <td>15.48000</td>\n",
              "      <td>22.56224</td>\n",
              "      <td>83.26459</td>\n",
              "      <td>1</td>\n",
              "      <td>1</td>\n",
              "      <td>2022</td>\n",
              "      <td>18</td>\n",
              "      <td>52</td>\n",
              "      <td>0</td>\n",
              "    </tr>\n",
              "    <tr>\n",
              "      <th>4</th>\n",
              "      <td>38.30000</td>\n",
              "      <td>34.77000</td>\n",
              "      <td>21.89436</td>\n",
              "      <td>85.17815</td>\n",
              "      <td>5</td>\n",
              "      <td>11</td>\n",
              "      <td>2021</td>\n",
              "      <td>22</td>\n",
              "      <td>44</td>\n",
              "      <td>0</td>\n",
              "    </tr>\n",
              "    <tr>\n",
              "      <th>...</th>\n",
              "      <td>...</td>\n",
              "      <td>...</td>\n",
              "      <td>...</td>\n",
              "      <td>...</td>\n",
              "      <td>...</td>\n",
              "      <td>...</td>\n",
              "      <td>...</td>\n",
              "      <td>...</td>\n",
              "      <td>...</td>\n",
              "      <td>...</td>\n",
              "    </tr>\n",
              "    <tr>\n",
              "      <th>373801</th>\n",
              "      <td>24.00033</td>\n",
              "      <td>19.29512</td>\n",
              "      <td>24.50000</td>\n",
              "      <td>72.00000</td>\n",
              "      <td>3</td>\n",
              "      <td>1</td>\n",
              "      <td>2022</td>\n",
              "      <td>4</td>\n",
              "      <td>1</td>\n",
              "      <td>1</td>\n",
              "    </tr>\n",
              "    <tr>\n",
              "      <th>373802</th>\n",
              "      <td>27.10802</td>\n",
              "      <td>25.23019</td>\n",
              "      <td>24.50000</td>\n",
              "      <td>72.00000</td>\n",
              "      <td>17</td>\n",
              "      <td>1</td>\n",
              "      <td>2022</td>\n",
              "      <td>10</td>\n",
              "      <td>3</td>\n",
              "      <td>1</td>\n",
              "    </tr>\n",
              "    <tr>\n",
              "      <th>373803</th>\n",
              "      <td>16.47334</td>\n",
              "      <td>10.50189</td>\n",
              "      <td>23.73420</td>\n",
              "      <td>76.80364</td>\n",
              "      <td>26</td>\n",
              "      <td>10</td>\n",
              "      <td>2021</td>\n",
              "      <td>13</td>\n",
              "      <td>43</td>\n",
              "      <td>1</td>\n",
              "    </tr>\n",
              "    <tr>\n",
              "      <th>373804</th>\n",
              "      <td>34.49113</td>\n",
              "      <td>29.51038</td>\n",
              "      <td>24.50000</td>\n",
              "      <td>72.00000</td>\n",
              "      <td>14</td>\n",
              "      <td>1</td>\n",
              "      <td>2022</td>\n",
              "      <td>11</td>\n",
              "      <td>2</td>\n",
              "      <td>1</td>\n",
              "    </tr>\n",
              "    <tr>\n",
              "      <th>373805</th>\n",
              "      <td>30.56296</td>\n",
              "      <td>18.58667</td>\n",
              "      <td>23.49934</td>\n",
              "      <td>77.87312</td>\n",
              "      <td>17</td>\n",
              "      <td>12</td>\n",
              "      <td>2021</td>\n",
              "      <td>21</td>\n",
              "      <td>50</td>\n",
              "      <td>1</td>\n",
              "    </tr>\n",
              "  </tbody>\n",
              "</table>\n",
              "<p>373806 rows × 10 columns</p>\n",
              "</div>"
            ],
            "text/plain": [
              "        Sensor1_PM2.5  Sensor2_PM2.5  Temperature  Relative_Humidity  \\\n",
              "0            52.58000       49.52000     21.89436           85.17815   \n",
              "1            35.25000       33.40000     24.50000           72.00000   \n",
              "2            19.18000       23.50000     21.89436           85.17815   \n",
              "3            19.40000       15.48000     22.56224           83.26459   \n",
              "4            38.30000       34.77000     21.89436           85.17815   \n",
              "...               ...            ...          ...                ...   \n",
              "373801       24.00033       19.29512     24.50000           72.00000   \n",
              "373802       27.10802       25.23019     24.50000           72.00000   \n",
              "373803       16.47334       10.50189     23.73420           76.80364   \n",
              "373804       34.49113       29.51038     24.50000           72.00000   \n",
              "373805       30.56296       18.58667     23.49934           77.87312   \n",
              "\n",
              "        Datetime_day  Datetime_month  Datetime_year  Datetime_hour  \\\n",
              "0                  3              11           2021              4   \n",
              "1                  8              11           2021             18   \n",
              "2                  7              11           2021              9   \n",
              "3                  1               1           2022             18   \n",
              "4                  5              11           2021             22   \n",
              "...              ...             ...            ...            ...   \n",
              "373801             3               1           2022              4   \n",
              "373802            17               1           2022             10   \n",
              "373803            26              10           2021             13   \n",
              "373804            14               1           2022             11   \n",
              "373805            17              12           2021             21   \n",
              "\n",
              "        Datetime_week  Offset_fault  \n",
              "0                  44             0  \n",
              "1                  45             0  \n",
              "2                  44             0  \n",
              "3                  52             0  \n",
              "4                  44             0  \n",
              "...               ...           ...  \n",
              "373801              1             1  \n",
              "373802              3             1  \n",
              "373803             43             1  \n",
              "373804              2             1  \n",
              "373805             50             1  \n",
              "\n",
              "[373806 rows x 10 columns]"
            ]
          },
          "execution_count": 42,
          "metadata": {},
          "output_type": "execute_result"
        }
      ],
      "source": [
        "from imblearn.over_sampling import SMOTE\n",
        "\n",
        "smote = SMOTE()\n",
        "\n",
        "# fit predictor and target variable\n",
        "x_smote, y_smote = smote.fit_resample(X, y)\n",
        "\n",
        "new_train = pd.DataFrame(x_smote, columns = train_feats)\n",
        "new_train['Offset_fault'] = y_smote.astype(int)\n",
        "new_train"
      ]
    },
    {
      "cell_type": "code",
      "execution_count": 43,
      "metadata": {},
      "outputs": [],
      "source": [
        "import numpy as np\n",
        "from math import sqrt\n",
        "from sklearn.metrics import accuracy_score\n",
        "from sklearn.model_selection import KFold\n",
        "from sklearn.ensemble import VotingClassifier\n",
        "\n",
        "\n",
        "class ModelEvalPredCla:\n",
        "    def __init__(self, train_df, test_df, in_cols, target):\n",
        "        self.train_df = train_df\n",
        "        self.test_df = test_df\n",
        "        self.in_cols = in_cols \n",
        "        self.target = target\n",
        "    \n",
        "    def eval_model(self, models, show=True, shuf=False):\n",
        "        kf = KFold(n_splits=5, shuffle=shuf)\n",
        "        scores = []\n",
        "        for train, test in kf.split(self.train_df):\n",
        "            results = []\n",
        "            vot_cls = VotingClassifier(estimators=models, voting='soft')\n",
        "            vot_cls.fit(self.train_df[self.in_cols].iloc[train], self.train_df[self.target].iloc[train])\n",
        "            acc = accuracy_score(self.train_df[self.target].iloc[test], vot_cls.predict(self.train_df[self.in_cols].iloc[test]))\n",
        "            scores.append(acc)\n",
        "            if show:\n",
        "                print(acc)\n",
        "        if show:\n",
        "            print(\"Average score in 5-fold CV:\", np.mean(scores))\n",
        "        return np.mean(scores)\n",
        "        \n",
        "    def predict(self, models):\n",
        "        vot_cls = VotingClassifier(estimators=models, voting='soft')\n",
        "        vot_cls.fit(self.train_df[self.in_cols], self.train_df[self.target])\n",
        "        return vot_cls.predict(self.test_df[self.in_cols])"
      ]
    },
    {
      "cell_type": "code",
      "execution_count": 44,
      "metadata": {},
      "outputs": [],
      "source": [
        "modcla = ModelEvalPredCla(new_train, test, train_feats, \"Offset_fault\")"
      ]
    },
    {
      "cell_type": "code",
      "execution_count": 45,
      "metadata": {},
      "outputs": [
        {
          "name": "stdout",
          "output_type": "stream",
          "text": [
            "0.938993071346406\n",
            "0.9407980096574418\n",
            "0.94020946750311\n",
            "0.9412929201054026\n",
            "0.9423094929174302\n",
            "Average score in 5-fold CV: 0.9407205923059581\n"
          ]
        },
        {
          "data": {
            "text/plain": [
              "0.9407205923059581"
            ]
          },
          "execution_count": 45,
          "metadata": {},
          "output_type": "execute_result"
        }
      ],
      "source": [
        "# import classifier models \n",
        "from sklearn.ensemble import RandomForestClassifier\n",
        "from sklearn.linear_model import LogisticRegression\n",
        "from sklearn.svm import SVC\n",
        "from sklearn.neighbors import KNeighborsClassifier\n",
        "from sklearn.naive_bayes import GaussianNB\n",
        "from sklearn.tree import DecisionTreeClassifier\n",
        "from catboost import CatBoostClassifier\n",
        "from xgboost import XGBClassifier\n",
        "from lightgbm import LGBMClassifier\n",
        "\n",
        "models = [\n",
        "    # ('Logistic Regression', LogisticRegression()),\n",
        "    # ('Random Forest', RandomForestClassifier()),\n",
        "    # ('SVM', SVC()),\n",
        "    # ('KNN', KNeighborsClassifier()),\n",
        "    # ('Naive Bayes', GaussianNB()),\n",
        "    # ('Decision Tree', DecisionTreeClassifier()),\n",
        "    # ('CatBoost', CatBoostClassifier(verbose=0)),\n",
        "    # ('XGBoost', XGBClassifier()),\n",
        "    ('LightGBM', LGBMClassifier())\n",
        "]\n",
        "\n",
        "modcla.eval_model(models, show=True, shuf=False)"
      ]
    },
    {
      "cell_type": "markdown",
      "metadata": {
        "id": "7UuShmECwAbL"
      },
      "source": [
        "<a name=\"Predictions\"></a>\n",
        "## 11. Making predictions of the test set and creating a submission file"
      ]
    },
    {
      "cell_type": "code",
      "execution_count": 46,
      "metadata": {},
      "outputs": [
        {
          "name": "stdout",
          "output_type": "stream",
          "text": [
            "LightGBM\n"
          ]
        },
        {
          "data": {
            "text/plain": [
              "[array([[0.99579196, 0.00420804],\n",
              "        [0.9902716 , 0.0097284 ],\n",
              "        [0.99339267, 0.00660733],\n",
              "        ...,\n",
              "        [0.99593846, 0.00406154],\n",
              "        [0.60695682, 0.39304318],\n",
              "        [0.84661598, 0.15338402]])]"
            ]
          },
          "execution_count": 46,
          "metadata": {},
          "output_type": "execute_result"
        }
      ],
      "source": [
        "preds = []\n",
        "for mod in models:\n",
        "    print(mod[0])\n",
        "    mod[1].fit(X, y)\n",
        "    preds.append(mod[1].predict_proba(test[train_feats]))\n",
        "preds"
      ]
    },
    {
      "cell_type": "code",
      "execution_count": 48,
      "metadata": {},
      "outputs": [
        {
          "data": {
            "text/plain": [
              "array([0.00420804, 0.0097284 , 0.00660733, ..., 0.00406154, 0.39304318,\n",
              "       0.15338402])"
            ]
          },
          "execution_count": 48,
          "metadata": {},
          "output_type": "execute_result"
        }
      ],
      "source": [
        "pm = np.mean([i[:, 1] for i in preds], axis=0)\n",
        "pm"
      ]
    },
    {
      "cell_type": "code",
      "execution_count": 49,
      "metadata": {},
      "outputs": [
        {
          "data": {
            "text/plain": [
              "32073"
            ]
          },
          "execution_count": 49,
          "metadata": {},
          "output_type": "execute_result"
        }
      ],
      "source": [
        "# round the values to 1 and 0 with threshold 0.5\n",
        "threshold = 0.5\n",
        "pm_round = np.where(pm > threshold, 1, 0)\n",
        "pm_round.sum()"
      ]
    },
    {
      "cell_type": "code",
      "execution_count": 50,
      "metadata": {
        "colab": {
          "base_uri": "https://localhost:8080/",
          "height": 351
        },
        "id": "xJo1lD5cs4MM",
        "outputId": "1c20a57d-a87b-46f9-fe2f-a43d54debc4a"
      },
      "outputs": [
        {
          "data": {
            "image/png": "[encoded data removed]",
            "text/plain": [
              "<Figure size 576x360 with 1 Axes>"
            ]
          },
          "metadata": {},
          "output_type": "display_data"
        }
      ],
      "source": [
        "# Make prediction on the test set\n",
        "test_df = test[train_feats]\n",
        "predictions = pm_round #modcla.predict(models)#clf.predict(test_df)\n",
        "\n",
        "# # Create a submission file\n",
        "sub_file = samplesubmission.copy()\n",
        "sub_file.Offset_fault = predictions\n",
        "\n",
        "# Check the distribution of your predictions\n",
        "plt.figure(figsize=(8, 5))\n",
        "sns.countplot(sub_file.Offset_fault)\n",
        "plt.title('Predictions Data Distribution');"
      ]
    },
    {
      "cell_type": "markdown",
      "metadata": {
        "id": "qTjjKQchqRVq"
      },
      "source": [
        " - Majority of the model predictions are 0"
      ]
    },
    {
      "cell_type": "code",
      "execution_count": 51,
      "metadata": {
        "id": "OvzrU6nms4Jw"
      },
      "outputs": [],
      "source": [
        "# Create file\n",
        "sub_file.to_csv('lt-oversample-null.csv', index = False)"
      ]
    },
    {
      "cell_type": "markdown",
      "metadata": {
        "id": "QKXXj1Yh4-ZK"
      },
      "source": [
        "<a name=\"Tips\"></a>\n",
        "##12. TO DOs\n",
        "\n",
        "1. Generate more features, you can work on aggregating the columns( e.g mean temperature , mean humidity  etc)\n",
        "2. For the datetime you can generate more features, day of the week, week of the year ...\n",
        "3. Perform more EDA to get a better Understanding of the data, \n",
        "4. Try other classifier models\n",
        "5. Experiment with different startegies of handling the missing values\n",
        "\n",
        "\n"
      ]
    },
    {
      "cell_type": "markdown",
      "metadata": {
        "id": "k_BBwmW05HAR"
      },
      "source": [
        "## ALL THE BEST! "
      ]
    }
  ],
  "metadata": {
    "colab": {
      "collapsed_sections": [],
      "name": "Airqo_starternotebook.ipynb",
      "provenance": []
    },
    "kernelspec": {
      "display_name": "Python 3",
      "name": "python3"
    },
    "language_info": {
      "codemirror_mode": {
        "name": "ipython",
        "version": 3
      },
      "file_extension": ".py",
      "mimetype": "text/x-python",
      "name": "python",
      "nbconvert_exporter": "python",
      "pygments_lexer": "ipython3",
      "version": "3.8.10"
    }
  },
  "nbformat": 4,
  "nbformat_minor": 0
}
